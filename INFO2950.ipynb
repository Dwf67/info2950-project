{
 "cells": [
  {
   "cell_type": "markdown",
   "id": "30cc0b78",
   "metadata": {},
   "source": [
    "# INFO 2950 Group Project\n"
   ]
  },
  {
   "cell_type": "code",
   "execution_count": 2,
   "id": "b2b17b57",
   "metadata": {},
   "outputs": [],
   "source": [
    "import pandas as pd\n",
    "import numpy as np\n",
    "import time\n",
    "\n",
    "import seaborn\n",
    "from matplotlib import pyplot\n",
    "import duckdb, sqlalchemy\n",
    "\n",
    "from sklearn.linear_model import LogisticRegression\n"
   ]
  },
  {
   "cell_type": "code",
   "execution_count": 3,
   "id": "b5851589",
   "metadata": {},
   "outputs": [],
   "source": [
    "%load_ext sql\n",
    "\n",
    "%config SqlMagic.autopandas = True\n",
    "%config SqlMagic.feedback = False\n",
    "%config SqlMagic.displaycon = False\n",
    "\n",
    "%sql duckdb:///:memory:"
   ]
  },
  {
   "cell_type": "markdown",
   "id": "48c4bc8d",
   "metadata": {},
   "source": [
    "## Research Question\n",
    "\n",
    "Does the property characteristics (location, property type, and price) or the host characteristics (host response time, host response rate, cancellation policy) matter more in the review score of an Airbnb listing in New York City?\n"
   ]
  },
  {
   "cell_type": "markdown",
   "id": "9a677e4a",
   "metadata": {},
   "source": [
    "## Data collection and cleaning"
   ]
  },
  {
   "cell_type": "code",
   "execution_count": 4,
   "id": "e9ef21f3",
   "metadata": {},
   "outputs": [
    {
     "name": "stdout",
     "output_type": "stream",
     "text": [
      "(44317, 31)\n",
      "1373827\n"
     ]
    },
    {
     "data": {
      "text/html": [
       "<div>\n",
       "<style scoped>\n",
       "    .dataframe tbody tr th:only-of-type {\n",
       "        vertical-align: middle;\n",
       "    }\n",
       "\n",
       "    .dataframe tbody tr th {\n",
       "        vertical-align: top;\n",
       "    }\n",
       "\n",
       "    .dataframe thead th {\n",
       "        text-align: right;\n",
       "    }\n",
       "</style>\n",
       "<table border=\"1\" class=\"dataframe\">\n",
       "  <thead>\n",
       "    <tr style=\"text-align: right;\">\n",
       "      <th></th>\n",
       "      <th>id</th>\n",
       "      <th>host_response_time</th>\n",
       "      <th>host_response_rate</th>\n",
       "      <th>host_is_superhost</th>\n",
       "      <th>host_has_profile_pic</th>\n",
       "      <th>neighbourhood_cleansed</th>\n",
       "      <th>latitude</th>\n",
       "      <th>longitude</th>\n",
       "      <th>is_location_exact</th>\n",
       "      <th>property_type</th>\n",
       "      <th>...</th>\n",
       "      <th>maximum_nights</th>\n",
       "      <th>calendar_updated</th>\n",
       "      <th>availability_30</th>\n",
       "      <th>number_of_reviews</th>\n",
       "      <th>review_scores_rating</th>\n",
       "      <th>instant_bookable</th>\n",
       "      <th>is_business_travel_ready</th>\n",
       "      <th>cancellation_policy</th>\n",
       "      <th>require_guest_profile_picture</th>\n",
       "      <th>reviews_per_month</th>\n",
       "    </tr>\n",
       "  </thead>\n",
       "  <tbody>\n",
       "    <tr>\n",
       "      <th>0</th>\n",
       "      <td>18461891</td>\n",
       "      <td>NaN</td>\n",
       "      <td>NaN</td>\n",
       "      <td>f</td>\n",
       "      <td>t</td>\n",
       "      <td>Ditmars Steinway</td>\n",
       "      <td>40.774142</td>\n",
       "      <td>-73.916246</td>\n",
       "      <td>t</td>\n",
       "      <td>Apartment</td>\n",
       "      <td>...</td>\n",
       "      <td>6</td>\n",
       "      <td>5 months ago</td>\n",
       "      <td>0</td>\n",
       "      <td>0</td>\n",
       "      <td>NaN</td>\n",
       "      <td>f</td>\n",
       "      <td>f</td>\n",
       "      <td>strict</td>\n",
       "      <td>f</td>\n",
       "      <td>NaN</td>\n",
       "    </tr>\n",
       "    <tr>\n",
       "      <th>1</th>\n",
       "      <td>20702398</td>\n",
       "      <td>within an hour</td>\n",
       "      <td>100%</td>\n",
       "      <td>f</td>\n",
       "      <td>t</td>\n",
       "      <td>City Island</td>\n",
       "      <td>40.849191</td>\n",
       "      <td>-73.786509</td>\n",
       "      <td>f</td>\n",
       "      <td>House</td>\n",
       "      <td>...</td>\n",
       "      <td>21</td>\n",
       "      <td>2 weeks ago</td>\n",
       "      <td>19</td>\n",
       "      <td>2</td>\n",
       "      <td>100.0</td>\n",
       "      <td>f</td>\n",
       "      <td>f</td>\n",
       "      <td>moderate</td>\n",
       "      <td>f</td>\n",
       "      <td>2.00</td>\n",
       "    </tr>\n",
       "    <tr>\n",
       "      <th>2</th>\n",
       "      <td>6627449</td>\n",
       "      <td>within an hour</td>\n",
       "      <td>100%</td>\n",
       "      <td>f</td>\n",
       "      <td>t</td>\n",
       "      <td>City Island</td>\n",
       "      <td>40.849775</td>\n",
       "      <td>-73.786609</td>\n",
       "      <td>t</td>\n",
       "      <td>Apartment</td>\n",
       "      <td>...</td>\n",
       "      <td>21</td>\n",
       "      <td>2 weeks ago</td>\n",
       "      <td>28</td>\n",
       "      <td>21</td>\n",
       "      <td>95.0</td>\n",
       "      <td>f</td>\n",
       "      <td>f</td>\n",
       "      <td>strict</td>\n",
       "      <td>f</td>\n",
       "      <td>0.77</td>\n",
       "    </tr>\n",
       "    <tr>\n",
       "      <th>3</th>\n",
       "      <td>19949243</td>\n",
       "      <td>within a few hours</td>\n",
       "      <td>100%</td>\n",
       "      <td>f</td>\n",
       "      <td>t</td>\n",
       "      <td>City Island</td>\n",
       "      <td>40.848838</td>\n",
       "      <td>-73.782276</td>\n",
       "      <td>f</td>\n",
       "      <td>Boat</td>\n",
       "      <td>...</td>\n",
       "      <td>1125</td>\n",
       "      <td>6 days ago</td>\n",
       "      <td>30</td>\n",
       "      <td>0</td>\n",
       "      <td>NaN</td>\n",
       "      <td>t</td>\n",
       "      <td>f</td>\n",
       "      <td>strict</td>\n",
       "      <td>f</td>\n",
       "      <td>NaN</td>\n",
       "    </tr>\n",
       "    <tr>\n",
       "      <th>4</th>\n",
       "      <td>1886820</td>\n",
       "      <td>NaN</td>\n",
       "      <td>NaN</td>\n",
       "      <td>f</td>\n",
       "      <td>t</td>\n",
       "      <td>City Island</td>\n",
       "      <td>40.841144</td>\n",
       "      <td>-73.783052</td>\n",
       "      <td>t</td>\n",
       "      <td>House</td>\n",
       "      <td>...</td>\n",
       "      <td>90</td>\n",
       "      <td>16 months ago</td>\n",
       "      <td>30</td>\n",
       "      <td>0</td>\n",
       "      <td>NaN</td>\n",
       "      <td>f</td>\n",
       "      <td>f</td>\n",
       "      <td>strict</td>\n",
       "      <td>f</td>\n",
       "      <td>NaN</td>\n",
       "    </tr>\n",
       "  </tbody>\n",
       "</table>\n",
       "<p>5 rows × 31 columns</p>\n",
       "</div>"
      ],
      "text/plain": [
       "         id  host_response_time host_response_rate host_is_superhost  \\\n",
       "0  18461891                 NaN                NaN                 f   \n",
       "1  20702398      within an hour               100%                 f   \n",
       "2   6627449      within an hour               100%                 f   \n",
       "3  19949243  within a few hours               100%                 f   \n",
       "4   1886820                 NaN                NaN                 f   \n",
       "\n",
       "  host_has_profile_pic neighbourhood_cleansed   latitude  longitude  \\\n",
       "0                    t       Ditmars Steinway  40.774142 -73.916246   \n",
       "1                    t            City Island  40.849191 -73.786509   \n",
       "2                    t            City Island  40.849775 -73.786609   \n",
       "3                    t            City Island  40.848838 -73.782276   \n",
       "4                    t            City Island  40.841144 -73.783052   \n",
       "\n",
       "  is_location_exact property_type  ... maximum_nights  calendar_updated  \\\n",
       "0                 t     Apartment  ...              6      5 months ago   \n",
       "1                 f         House  ...             21       2 weeks ago   \n",
       "2                 t     Apartment  ...             21       2 weeks ago   \n",
       "3                 f          Boat  ...           1125        6 days ago   \n",
       "4                 t         House  ...             90     16 months ago   \n",
       "\n",
       "   availability_30  number_of_reviews  review_scores_rating instant_bookable  \\\n",
       "0                0                  0                   NaN                f   \n",
       "1               19                  2                 100.0                f   \n",
       "2               28                 21                  95.0                f   \n",
       "3               30                  0                   NaN                t   \n",
       "4               30                  0                   NaN                f   \n",
       "\n",
       "  is_business_travel_ready  cancellation_policy  \\\n",
       "0                        f               strict   \n",
       "1                        f             moderate   \n",
       "2                        f               strict   \n",
       "3                        f               strict   \n",
       "4                        f               strict   \n",
       "\n",
       "   require_guest_profile_picture  reviews_per_month  \n",
       "0                              f                NaN  \n",
       "1                              f               2.00  \n",
       "2                              f               0.77  \n",
       "3                              f                NaN  \n",
       "4                              f                NaN  \n",
       "\n",
       "[5 rows x 31 columns]"
      ]
     },
     "execution_count": 4,
     "metadata": {},
     "output_type": "execute_result"
    }
   ],
   "source": [
    "raw_data_df = pd.read_csv('New_York.csv')\n",
    "print(raw_data_df.shape)\n",
    "print(raw_data_df.size)\n",
    "raw_data_df.head()"
   ]
  },
  {
   "cell_type": "markdown",
   "id": "e3229836",
   "metadata": {},
   "source": [
    "The dataset is downloaded from Kaggle (URl: https://www.kaggle.com/datasets/ivanovskia1/nyc-airbnb-rental-data-october-2017/versions/1?resource=download). We will use NYC Airbnb Rental data in October 2017 as our sample to anaylze whether property characteristics or host characterisitics play a more important role in the review score of an Airbnb listing in NYC. The raw dataframe has 44317 rows and 31 columns. The size of the dataframe is 1373827, which is too big and contains some irrelevant information, so we need to clean it first. "
   ]
  },
  {
   "cell_type": "code",
   "execution_count": 5,
   "id": "9819387a",
   "metadata": {},
   "outputs": [
    {
     "data": {
      "text/plain": [
       "id                                   0\n",
       "host_response_time               13679\n",
       "host_response_rate               13679\n",
       "host_is_superhost                  232\n",
       "host_has_profile_pic               232\n",
       "neighbourhood_cleansed               0\n",
       "latitude                             0\n",
       "longitude                            0\n",
       "is_location_exact                    0\n",
       "property_type                        0\n",
       "room_type                            0\n",
       "accommodates                         0\n",
       "bathrooms                          144\n",
       "bedrooms                            73\n",
       "beds                                91\n",
       "bed_type                             0\n",
       "amenities                            0\n",
       "square_feet                      43768\n",
       "price                                0\n",
       "guests_included                      0\n",
       "minimum_nights                       0\n",
       "maximum_nights                       0\n",
       "calendar_updated                     0\n",
       "availability_30                      0\n",
       "number_of_reviews                    0\n",
       "review_scores_rating             10099\n",
       "instant_bookable                     0\n",
       "is_business_travel_ready             0\n",
       "cancellation_policy                  0\n",
       "require_guest_profile_picture        0\n",
       "reviews_per_month                 9474\n",
       "dtype: int64"
      ]
     },
     "execution_count": 5,
     "metadata": {},
     "output_type": "execute_result"
    }
   ],
   "source": [
    "raw_data_df.isnull().sum()"
   ]
  },
  {
   "cell_type": "markdown",
   "id": "3e08eb09",
   "metadata": {},
   "source": [
    "Our research question concern about property characteristics and host characterisitics, so we need to drop columns that are irrelevant, such as id and calendar updates. Some characteristics like longitude and latitude are less expressive than location for general audience, so we also disregard these values. Square feet of the listing would be a good one to include as one of the property characteristics, but after checking the null value, we find that 43768 of the listings do not contain this information, which is 98.7% of our total listings, so we also need to drop it. Finally, given our research question, we decide to use location, property type, and price as property characteristics, and use host response time, host response rate, and cancellation policy as host characteristics. We also need to use review scores rating as our output varaible. All other columns will be removed. \n",
    "(I can talk more about why we remove certain columns - Linda)"
   ]
  },
  {
   "cell_type": "code",
   "execution_count": 6,
   "id": "dc0a2313",
   "metadata": {},
   "outputs": [
    {
     "name": "stdout",
     "output_type": "stream",
     "text": [
      "Returning data to local variable data_df\n",
      "(44317, 7)\n",
      "310219\n"
     ]
    },
    {
     "data": {
      "text/html": [
       "<div>\n",
       "<style scoped>\n",
       "    .dataframe tbody tr th:only-of-type {\n",
       "        vertical-align: middle;\n",
       "    }\n",
       "\n",
       "    .dataframe tbody tr th {\n",
       "        vertical-align: top;\n",
       "    }\n",
       "\n",
       "    .dataframe thead th {\n",
       "        text-align: right;\n",
       "    }\n",
       "</style>\n",
       "<table border=\"1\" class=\"dataframe\">\n",
       "  <thead>\n",
       "    <tr style=\"text-align: right;\">\n",
       "      <th></th>\n",
       "      <th>location</th>\n",
       "      <th>property_type</th>\n",
       "      <th>price</th>\n",
       "      <th>host_response_time</th>\n",
       "      <th>host_response_rate</th>\n",
       "      <th>cancellation_policy</th>\n",
       "      <th>review_scores_rating</th>\n",
       "    </tr>\n",
       "  </thead>\n",
       "  <tbody>\n",
       "    <tr>\n",
       "      <th>0</th>\n",
       "      <td>Ditmars Steinway</td>\n",
       "      <td>Apartment</td>\n",
       "      <td>110</td>\n",
       "      <td>None</td>\n",
       "      <td>None</td>\n",
       "      <td>strict</td>\n",
       "      <td>NaN</td>\n",
       "    </tr>\n",
       "    <tr>\n",
       "      <th>1</th>\n",
       "      <td>City Island</td>\n",
       "      <td>House</td>\n",
       "      <td>50</td>\n",
       "      <td>within an hour</td>\n",
       "      <td>100%</td>\n",
       "      <td>moderate</td>\n",
       "      <td>100.0</td>\n",
       "    </tr>\n",
       "    <tr>\n",
       "      <th>2</th>\n",
       "      <td>City Island</td>\n",
       "      <td>Apartment</td>\n",
       "      <td>125</td>\n",
       "      <td>within an hour</td>\n",
       "      <td>100%</td>\n",
       "      <td>strict</td>\n",
       "      <td>95.0</td>\n",
       "    </tr>\n",
       "    <tr>\n",
       "      <th>3</th>\n",
       "      <td>City Island</td>\n",
       "      <td>Boat</td>\n",
       "      <td>100</td>\n",
       "      <td>within a few hours</td>\n",
       "      <td>100%</td>\n",
       "      <td>strict</td>\n",
       "      <td>NaN</td>\n",
       "    </tr>\n",
       "    <tr>\n",
       "      <th>4</th>\n",
       "      <td>City Island</td>\n",
       "      <td>House</td>\n",
       "      <td>300</td>\n",
       "      <td>None</td>\n",
       "      <td>None</td>\n",
       "      <td>strict</td>\n",
       "      <td>NaN</td>\n",
       "    </tr>\n",
       "  </tbody>\n",
       "</table>\n",
       "</div>"
      ],
      "text/plain": [
       "           location property_type  price  host_response_time  \\\n",
       "0  Ditmars Steinway     Apartment    110                None   \n",
       "1       City Island         House     50      within an hour   \n",
       "2       City Island     Apartment    125      within an hour   \n",
       "3       City Island          Boat    100  within a few hours   \n",
       "4       City Island         House    300                None   \n",
       "\n",
       "  host_response_rate cancellation_policy  review_scores_rating  \n",
       "0               None              strict                   NaN  \n",
       "1               100%            moderate                 100.0  \n",
       "2               100%              strict                  95.0  \n",
       "3               100%              strict                   NaN  \n",
       "4               None              strict                   NaN  "
      ]
     },
     "execution_count": 6,
     "metadata": {},
     "output_type": "execute_result"
    }
   ],
   "source": [
    "%sql data_df << SELECT neighbourhood_cleansed AS location, property_type, price, host_response_time, host_response_rate, cancellation_policy, review_scores_rating FROM raw_data_df\n",
    "print(data_df.shape)\n",
    "print(data_df.size)\n",
    "data_df.head()"
   ]
  },
  {
   "cell_type": "markdown",
   "id": "9f75c910",
   "metadata": {},
   "source": [
    "We need to further clean the dataset as there are some NaN value for host response time, host response rate, and review score rating. We decide to remove rows that contain any missing data. We choose to remove incomplete data instead of filling in numbers for missing data because about 31% of the rows do not contain value for host response time and host reponse rate, and about 22% of the rows do not contain value for review score. We think if we simply fill the missing value with zeros, it will create a strong bias during our sample analysis. Our raw dataset is very large, so removing the raws can still lead to a reliable and consistent dataset."
   ]
  },
  {
   "cell_type": "code",
   "execution_count": 7,
   "id": "e7b67e12",
   "metadata": {},
   "outputs": [
    {
     "name": "stdout",
     "output_type": "stream",
     "text": [
      "Returning data to local variable airbnb_df\n",
      "(26620, 7)\n",
      "186340\n"
     ]
    },
    {
     "data": {
      "text/html": [
       "<div>\n",
       "<style scoped>\n",
       "    .dataframe tbody tr th:only-of-type {\n",
       "        vertical-align: middle;\n",
       "    }\n",
       "\n",
       "    .dataframe tbody tr th {\n",
       "        vertical-align: top;\n",
       "    }\n",
       "\n",
       "    .dataframe thead th {\n",
       "        text-align: right;\n",
       "    }\n",
       "</style>\n",
       "<table border=\"1\" class=\"dataframe\">\n",
       "  <thead>\n",
       "    <tr style=\"text-align: right;\">\n",
       "      <th></th>\n",
       "      <th>location</th>\n",
       "      <th>property_type</th>\n",
       "      <th>price</th>\n",
       "      <th>host_response_time</th>\n",
       "      <th>host_response_rate</th>\n",
       "      <th>cancellation_policy</th>\n",
       "      <th>review_scores_rating</th>\n",
       "    </tr>\n",
       "  </thead>\n",
       "  <tbody>\n",
       "    <tr>\n",
       "      <th>0</th>\n",
       "      <td>City Island</td>\n",
       "      <td>House</td>\n",
       "      <td>50</td>\n",
       "      <td>within an hour</td>\n",
       "      <td>100%</td>\n",
       "      <td>moderate</td>\n",
       "      <td>100.0</td>\n",
       "    </tr>\n",
       "    <tr>\n",
       "      <th>1</th>\n",
       "      <td>City Island</td>\n",
       "      <td>Apartment</td>\n",
       "      <td>125</td>\n",
       "      <td>within an hour</td>\n",
       "      <td>100%</td>\n",
       "      <td>strict</td>\n",
       "      <td>95.0</td>\n",
       "    </tr>\n",
       "    <tr>\n",
       "      <th>2</th>\n",
       "      <td>City Island</td>\n",
       "      <td>House</td>\n",
       "      <td>69</td>\n",
       "      <td>within an hour</td>\n",
       "      <td>100%</td>\n",
       "      <td>moderate</td>\n",
       "      <td>97.0</td>\n",
       "    </tr>\n",
       "    <tr>\n",
       "      <th>3</th>\n",
       "      <td>City Island</td>\n",
       "      <td>Apartment</td>\n",
       "      <td>150</td>\n",
       "      <td>within an hour</td>\n",
       "      <td>100%</td>\n",
       "      <td>flexible</td>\n",
       "      <td>100.0</td>\n",
       "    </tr>\n",
       "    <tr>\n",
       "      <th>4</th>\n",
       "      <td>City Island</td>\n",
       "      <td>House</td>\n",
       "      <td>101</td>\n",
       "      <td>within an hour</td>\n",
       "      <td>100%</td>\n",
       "      <td>moderate</td>\n",
       "      <td>100.0</td>\n",
       "    </tr>\n",
       "  </tbody>\n",
       "</table>\n",
       "</div>"
      ],
      "text/plain": [
       "      location property_type  price host_response_time host_response_rate  \\\n",
       "0  City Island         House     50     within an hour               100%   \n",
       "1  City Island     Apartment    125     within an hour               100%   \n",
       "2  City Island         House     69     within an hour               100%   \n",
       "3  City Island     Apartment    150     within an hour               100%   \n",
       "4  City Island         House    101     within an hour               100%   \n",
       "\n",
       "  cancellation_policy  review_scores_rating  \n",
       "0            moderate                 100.0  \n",
       "1              strict                  95.0  \n",
       "2            moderate                  97.0  \n",
       "3            flexible                 100.0  \n",
       "4            moderate                 100.0  "
      ]
     },
     "execution_count": 7,
     "metadata": {},
     "output_type": "execute_result"
    }
   ],
   "source": [
    "%sql airbnb_df << SELECT* FROM data_df WHERE review_scores_rating is not null and host_response_time is not null and host_response_rate is not null\n",
    "print(airbnb_df.shape)\n",
    "print(airbnb_df.size)\n",
    "airbnb_df.head()"
   ]
  },
  {
   "cell_type": "code",
   "execution_count": 8,
   "id": "3977b546",
   "metadata": {},
   "outputs": [
    {
     "data": {
      "text/plain": [
       "location                0\n",
       "property_type           0\n",
       "price                   0\n",
       "host_response_time      0\n",
       "host_response_rate      0\n",
       "cancellation_policy     0\n",
       "review_scores_rating    0\n",
       "dtype: int64"
      ]
     },
     "execution_count": 8,
     "metadata": {},
     "output_type": "execute_result"
    }
   ],
   "source": [
    "airbnb_df.isnull().sum()"
   ]
  },
  {
   "cell_type": "markdown",
   "id": "8848a937",
   "metadata": {},
   "source": [
    "At this point, our data is in good quality. The clean dataframe has 26620 rows and 7 columns. The size of the dataframe is 186340. None of the values are missing. We are ready to explore the dataset further. The cleaned data is exported as cleaned airbnb "
   ]
  },
  {
   "cell_type": "code",
   "execution_count": 9,
   "id": "5a2fcd75",
   "metadata": {},
   "outputs": [],
   "source": [
    "airbnb_df.to_csv('cleaned_airbnb_data.csv')"
   ]
  },
  {
   "cell_type": "markdown",
   "id": "f35948ed",
   "metadata": {},
   "source": [
    "## Data description"
   ]
  },
  {
   "cell_type": "markdown",
   "id": "975062ea",
   "metadata": {},
   "source": [
    "The data source we used is https://www.kaggle.com/datasets/ivanovskia1/nyc-airbnb-rental-data-october-2017?resource=download. Our cleaned data contains 26620 properties and the data was accumulated in New York, NY in October 2017.\n",
    "\n",
    "This consists of information to find out about hosts, geographical and property characteristic information used to make predictions and draw conclusions. Specifically, we used narrowed down our data to the variables which relate to host attributes such as the host response time, response rate, and their cancellation policy. The variables we used that relate to property characteristics are location, property type and price. These variables will then all be used to answer our research question of whether host characteristics or property characteristics influence Airbnb reviews more. "
   ]
  },
  {
   "cell_type": "code",
   "execution_count": 10,
   "id": "cd3d10a4",
   "metadata": {},
   "outputs": [
    {
     "name": "stdout",
     "output_type": "stream",
     "text": [
      "Here are the types of each of the variables:\n",
      "location                 object\n",
      "property_type            object\n",
      "price                     int64\n",
      "host_response_time       object\n",
      "host_response_rate       object\n",
      "cancellation_policy      object\n",
      "review_scores_rating    float64\n",
      "dtype: object\n"
     ]
    }
   ],
   "source": [
    "variable_types = airbnb_df.dtypes\n",
    "print('Here are the types of each of the variables:')\n",
    "print(variable_types)\n"
   ]
  },
  {
   "cell_type": "markdown",
   "id": "77bde337",
   "metadata": {},
   "source": [
    "The descriptions of each of the variables are: \n",
    "\n",
    "location: represents the neighborhood in New York the property is located\n",
    "\n",
    "property_type: represents the type of Airbnb being rented for example a house, apartment or boat\n",
    "\n",
    "price: represents the nightly rate of the property\n",
    "\n",
    "host_response_time: the average time a host takes to respond\n",
    "\n",
    "host_response_rate: the percentage of times a host responds to a booking request\n",
    "\n",
    "cancellation_policy: whether the host's policy is strict, moderate, or flexible \n",
    "\n",
    "review_scores_rating: the airbnb rating on a scale of 0-100"
   ]
  },
  {
   "cell_type": "markdown",
   "id": "6e997ab9",
   "metadata": {},
   "source": [
    "## Data limitations"
   ]
  },
  {
   "cell_type": "code",
   "execution_count": null,
   "id": "fc3745bc",
   "metadata": {},
   "outputs": [],
   "source": []
  },
  {
   "cell_type": "markdown",
   "id": "82a5f106",
   "metadata": {},
   "source": [
    "## Exploratory data analysis"
   ]
  },
  {
   "cell_type": "code",
   "execution_count": null,
   "id": "36cb114c",
   "metadata": {},
   "outputs": [],
   "source": []
  },
  {
   "cell_type": "markdown",
   "id": "7a512243",
   "metadata": {},
   "source": [
    "## Questions for reviewers"
   ]
  },
  {
   "cell_type": "code",
   "execution_count": null,
   "id": "d287715b",
   "metadata": {},
   "outputs": [],
   "source": []
  }
 ],
 "metadata": {
  "kernelspec": {
   "display_name": "Python 3 (ipykernel)",
   "language": "python",
   "name": "python3"
  },
  "language_info": {
   "codemirror_mode": {
    "name": "ipython",
    "version": 3
   },
   "file_extension": ".py",
   "mimetype": "text/x-python",
   "name": "python",
   "nbconvert_exporter": "python",
   "pygments_lexer": "ipython3",
   "version": "3.8.13"
  }
 },
 "nbformat": 4,
 "nbformat_minor": 5
}
