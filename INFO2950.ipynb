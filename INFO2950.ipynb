{
 "cells": [
  {
   "cell_type": "markdown",
   "id": "30cc0b78",
   "metadata": {},
   "source": [
    "# INFO 2950 Group Project\n"
   ]
  },
  {
   "cell_type": "code",
   "execution_count": 1,
   "id": "b2b17b57",
   "metadata": {},
   "outputs": [],
   "source": [
    "import pandas as pd\n",
    "import numpy as np\n",
    "import time\n",
    "\n",
    "import seaborn\n",
    "from matplotlib import pyplot\n",
    "\n",
    "from sklearn.linear_model import LogisticRegression"
   ]
  },
  {
   "cell_type": "markdown",
   "id": "48c4bc8d",
   "metadata": {},
   "source": [
    "## Research Question\n",
    "\n"
   ]
  },
  {
   "cell_type": "markdown",
   "id": "9a677e4a",
   "metadata": {},
   "source": [
    "## Data collection and cleaning"
   ]
  },
  {
   "cell_type": "markdown",
   "id": "f35948ed",
   "metadata": {},
   "source": [
    "## Data description"
   ]
  },
  {
   "cell_type": "markdown",
   "id": "6e997ab9",
   "metadata": {},
   "source": [
    "## Data limitations"
   ]
  },
  {
   "cell_type": "markdown",
   "id": "82a5f106",
   "metadata": {},
   "source": [
    "## Exploratory data analysis"
   ]
  },
  {
   "cell_type": "markdown",
   "id": "7a512243",
   "metadata": {},
   "source": [
    "## Questions for reviewers"
   ]
  },
  {
   "cell_type": "code",
   "execution_count": null,
   "id": "d287715b",
   "metadata": {},
   "outputs": [],
   "source": []
  }
 ],
 "metadata": {
  "kernelspec": {
   "display_name": "Python 3 (ipykernel)",
   "language": "python",
   "name": "python3"
  },
  "language_info": {
   "codemirror_mode": {
    "name": "ipython",
    "version": 3
   },
   "file_extension": ".py",
   "mimetype": "text/x-python",
   "name": "python",
   "nbconvert_exporter": "python",
   "pygments_lexer": "ipython3",
   "version": "3.8.13"
  }
 },
 "nbformat": 4,
 "nbformat_minor": 5
}
