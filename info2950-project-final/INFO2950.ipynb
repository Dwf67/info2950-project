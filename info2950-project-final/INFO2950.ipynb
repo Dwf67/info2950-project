{
 "cells": [
  {
   "cell_type": "markdown",
   "id": "30cc0b78",
   "metadata": {
    "id": "30cc0b78"
   },
   "source": [
    "# INFO 2950 Group Project\n"
   ]
  },
  {
   "cell_type": "code",
   "execution_count": 1,
   "id": "b2b17b57",
   "metadata": {
    "id": "b2b17b57"
   },
   "outputs": [],
   "source": [
    "import pandas as pd\n",
    "import numpy as np\n",
    "import time\n",
    "import seaborn as sns\n",
    "from matplotlib import pyplot as plt\n",
    "from sklearn.feature_extraction.text import CountVectorizer, TfidfVectorizer\n",
    "from sklearn.preprocessing import normalize\n",
    "from sklearn.cluster import KMeans\n",
    "from sklearn.naive_bayes import MultinomialNB\n",
    "from sklearn.linear_model import LinearRegression, LogisticRegression\n",
    "from sklearn.model_selection import train_test_split, KFold, cross_val_score\n",
    "from sklearn import metrics\n",
    "from sklearn.metrics import PrecisionRecallDisplay\n"
   ]
  },
  {
   "cell_type": "code",
   "execution_count": 2,
   "id": "b5851589",
   "metadata": {
    "colab": {
     "base_uri": "https://localhost:8080/"
    },
    "id": "b5851589",
    "outputId": "1ffd51c6-54a4-41f9-8192-211a74d90f4e"
   },
   "outputs": [],
   "source": [
    "%load_ext sql\n",
    "%config SqlMagic.autopandas = True\n",
    "%config SqlMagic.feedback = False\n",
    "%config SqlMagic.displaycon = False\n",
    "%sql duckdb:///:memory:"
   ]
  },
  {
   "cell_type": "markdown",
   "id": "L63ViJaIZupX",
   "metadata": {
    "id": "L63ViJaIZupX"
   },
   "source": [
    "## Introduction- Douglas\n",
    "\n",
    "Airbnb is one of the most influential forces in technology and real estate today, providing a plethora of data for users to explore. Airbnb users have access to a wide range of data characteristics before their potential stay. Data provided ranges from price, location, neighborhood, check-in policies, and host characteristics. The two primary categories of information provided fall into either host characteristics of property characteristics.\n",
    "\n",
    "Our research is aimed at investigating whether the property characteristics or host characteristics are more impactful for deciding whether a guest will stay at the property. How important is the location of a property? How relevant are host reviews? Can highly rated hosts compensate for less than stellar property, or vice versa? \n"
   ]
  },
  {
   "cell_type": "markdown",
   "id": "9a677e4a",
   "metadata": {
    "id": "9a677e4a"
   },
   "source": [
    "## Data collection and cleaning"
   ]
  },
  {
   "cell_type": "markdown",
   "id": "442bbc04",
   "metadata": {
    "id": "442bbc04"
   },
   "source": [
    "We store a raw dataset as a DataFrame and examine its shape and size."
   ]
  },
  {
   "cell_type": "code",
   "execution_count": 3,
   "id": "e9ef21f3",
   "metadata": {
    "colab": {
     "base_uri": "https://localhost:8080/",
     "height": 335
    },
    "id": "e9ef21f3",
    "outputId": "2a725430-e009-451b-e695-b5bf26b6793c"
   },
   "outputs": [
    {
     "name": "stdout",
     "output_type": "stream",
     "text": [
      "(44317, 31)\n",
      "1373827\n"
     ]
    },
    {
     "data": {
      "text/html": [
       "<div>\n",
       "<style scoped>\n",
       "    .dataframe tbody tr th:only-of-type {\n",
       "        vertical-align: middle;\n",
       "    }\n",
       "\n",
       "    .dataframe tbody tr th {\n",
       "        vertical-align: top;\n",
       "    }\n",
       "\n",
       "    .dataframe thead th {\n",
       "        text-align: right;\n",
       "    }\n",
       "</style>\n",
       "<table border=\"1\" class=\"dataframe\">\n",
       "  <thead>\n",
       "    <tr style=\"text-align: right;\">\n",
       "      <th></th>\n",
       "      <th>id</th>\n",
       "      <th>host_response_time</th>\n",
       "      <th>host_response_rate</th>\n",
       "      <th>host_is_superhost</th>\n",
       "      <th>host_has_profile_pic</th>\n",
       "      <th>neighbourhood_cleansed</th>\n",
       "      <th>latitude</th>\n",
       "      <th>longitude</th>\n",
       "      <th>is_location_exact</th>\n",
       "      <th>property_type</th>\n",
       "      <th>...</th>\n",
       "      <th>maximum_nights</th>\n",
       "      <th>calendar_updated</th>\n",
       "      <th>availability_30</th>\n",
       "      <th>number_of_reviews</th>\n",
       "      <th>review_scores_rating</th>\n",
       "      <th>instant_bookable</th>\n",
       "      <th>is_business_travel_ready</th>\n",
       "      <th>cancellation_policy</th>\n",
       "      <th>require_guest_profile_picture</th>\n",
       "      <th>reviews_per_month</th>\n",
       "    </tr>\n",
       "  </thead>\n",
       "  <tbody>\n",
       "    <tr>\n",
       "      <th>0</th>\n",
       "      <td>18461891</td>\n",
       "      <td>NaN</td>\n",
       "      <td>NaN</td>\n",
       "      <td>f</td>\n",
       "      <td>t</td>\n",
       "      <td>Ditmars Steinway</td>\n",
       "      <td>40.774142</td>\n",
       "      <td>-73.916246</td>\n",
       "      <td>t</td>\n",
       "      <td>Apartment</td>\n",
       "      <td>...</td>\n",
       "      <td>6</td>\n",
       "      <td>5 months ago</td>\n",
       "      <td>0</td>\n",
       "      <td>0</td>\n",
       "      <td>NaN</td>\n",
       "      <td>f</td>\n",
       "      <td>f</td>\n",
       "      <td>strict</td>\n",
       "      <td>f</td>\n",
       "      <td>NaN</td>\n",
       "    </tr>\n",
       "    <tr>\n",
       "      <th>1</th>\n",
       "      <td>20702398</td>\n",
       "      <td>within an hour</td>\n",
       "      <td>100%</td>\n",
       "      <td>f</td>\n",
       "      <td>t</td>\n",
       "      <td>City Island</td>\n",
       "      <td>40.849191</td>\n",
       "      <td>-73.786509</td>\n",
       "      <td>f</td>\n",
       "      <td>House</td>\n",
       "      <td>...</td>\n",
       "      <td>21</td>\n",
       "      <td>2 weeks ago</td>\n",
       "      <td>19</td>\n",
       "      <td>2</td>\n",
       "      <td>100.0</td>\n",
       "      <td>f</td>\n",
       "      <td>f</td>\n",
       "      <td>moderate</td>\n",
       "      <td>f</td>\n",
       "      <td>2.00</td>\n",
       "    </tr>\n",
       "    <tr>\n",
       "      <th>2</th>\n",
       "      <td>6627449</td>\n",
       "      <td>within an hour</td>\n",
       "      <td>100%</td>\n",
       "      <td>f</td>\n",
       "      <td>t</td>\n",
       "      <td>City Island</td>\n",
       "      <td>40.849775</td>\n",
       "      <td>-73.786609</td>\n",
       "      <td>t</td>\n",
       "      <td>Apartment</td>\n",
       "      <td>...</td>\n",
       "      <td>21</td>\n",
       "      <td>2 weeks ago</td>\n",
       "      <td>28</td>\n",
       "      <td>21</td>\n",
       "      <td>95.0</td>\n",
       "      <td>f</td>\n",
       "      <td>f</td>\n",
       "      <td>strict</td>\n",
       "      <td>f</td>\n",
       "      <td>0.77</td>\n",
       "    </tr>\n",
       "    <tr>\n",
       "      <th>3</th>\n",
       "      <td>19949243</td>\n",
       "      <td>within a few hours</td>\n",
       "      <td>100%</td>\n",
       "      <td>f</td>\n",
       "      <td>t</td>\n",
       "      <td>City Island</td>\n",
       "      <td>40.848838</td>\n",
       "      <td>-73.782276</td>\n",
       "      <td>f</td>\n",
       "      <td>Boat</td>\n",
       "      <td>...</td>\n",
       "      <td>1125</td>\n",
       "      <td>6 days ago</td>\n",
       "      <td>30</td>\n",
       "      <td>0</td>\n",
       "      <td>NaN</td>\n",
       "      <td>t</td>\n",
       "      <td>f</td>\n",
       "      <td>strict</td>\n",
       "      <td>f</td>\n",
       "      <td>NaN</td>\n",
       "    </tr>\n",
       "    <tr>\n",
       "      <th>4</th>\n",
       "      <td>1886820</td>\n",
       "      <td>NaN</td>\n",
       "      <td>NaN</td>\n",
       "      <td>f</td>\n",
       "      <td>t</td>\n",
       "      <td>City Island</td>\n",
       "      <td>40.841144</td>\n",
       "      <td>-73.783052</td>\n",
       "      <td>t</td>\n",
       "      <td>House</td>\n",
       "      <td>...</td>\n",
       "      <td>90</td>\n",
       "      <td>16 months ago</td>\n",
       "      <td>30</td>\n",
       "      <td>0</td>\n",
       "      <td>NaN</td>\n",
       "      <td>f</td>\n",
       "      <td>f</td>\n",
       "      <td>strict</td>\n",
       "      <td>f</td>\n",
       "      <td>NaN</td>\n",
       "    </tr>\n",
       "  </tbody>\n",
       "</table>\n",
       "<p>5 rows × 31 columns</p>\n",
       "</div>"
      ],
      "text/plain": [
       "         id  host_response_time host_response_rate host_is_superhost  \\\n",
       "0  18461891                 NaN                NaN                 f   \n",
       "1  20702398      within an hour               100%                 f   \n",
       "2   6627449      within an hour               100%                 f   \n",
       "3  19949243  within a few hours               100%                 f   \n",
       "4   1886820                 NaN                NaN                 f   \n",
       "\n",
       "  host_has_profile_pic neighbourhood_cleansed   latitude  longitude  \\\n",
       "0                    t       Ditmars Steinway  40.774142 -73.916246   \n",
       "1                    t            City Island  40.849191 -73.786509   \n",
       "2                    t            City Island  40.849775 -73.786609   \n",
       "3                    t            City Island  40.848838 -73.782276   \n",
       "4                    t            City Island  40.841144 -73.783052   \n",
       "\n",
       "  is_location_exact property_type  ... maximum_nights  calendar_updated  \\\n",
       "0                 t     Apartment  ...              6      5 months ago   \n",
       "1                 f         House  ...             21       2 weeks ago   \n",
       "2                 t     Apartment  ...             21       2 weeks ago   \n",
       "3                 f          Boat  ...           1125        6 days ago   \n",
       "4                 t         House  ...             90     16 months ago   \n",
       "\n",
       "   availability_30  number_of_reviews  review_scores_rating instant_bookable  \\\n",
       "0                0                  0                   NaN                f   \n",
       "1               19                  2                 100.0                f   \n",
       "2               28                 21                  95.0                f   \n",
       "3               30                  0                   NaN                t   \n",
       "4               30                  0                   NaN                f   \n",
       "\n",
       "  is_business_travel_ready  cancellation_policy  \\\n",
       "0                        f               strict   \n",
       "1                        f             moderate   \n",
       "2                        f               strict   \n",
       "3                        f               strict   \n",
       "4                        f               strict   \n",
       "\n",
       "   require_guest_profile_picture  reviews_per_month  \n",
       "0                              f                NaN  \n",
       "1                              f               2.00  \n",
       "2                              f               0.77  \n",
       "3                              f                NaN  \n",
       "4                              f                NaN  \n",
       "\n",
       "[5 rows x 31 columns]"
      ]
     },
     "execution_count": 3,
     "metadata": {},
     "output_type": "execute_result"
    }
   ],
   "source": [
    "raw_data_df = pd.read_csv('New_York.csv')\n",
    "\n",
    "print(raw_data_df.shape)\n",
    "print(raw_data_df.size)\n",
    "raw_data_df.head()"
   ]
  },
  {
   "cell_type": "markdown",
   "id": "e3229836",
   "metadata": {
    "id": "e3229836"
   },
   "source": [
    "The dataset is downloaded from Kaggle (URl: https://www.kaggle.com/datasets/ivanovskia1/nyc-airbnb-rental-data-october-2017/versions/1?resource=download). We use NYC Airbnb Rental data in October 2017 as our sample to anaylze whether property characteristics or host characterisitics play a more important role in the review score of an Airbnb listing in NYC. The raw dataframe has 44317 rows and 31 columns. The size of the dataframe is 1373827, which is too big and contains some irrelevant information, so we need to clean it first. "
   ]
  },
  {
   "cell_type": "code",
   "execution_count": 4,
   "id": "9819387a",
   "metadata": {
    "colab": {
     "base_uri": "https://localhost:8080/"
    },
    "id": "9819387a",
    "outputId": "957c4f9f-f3da-4326-e230-147a9f170702"
   },
   "outputs": [
    {
     "data": {
      "text/plain": [
       "id                                   0\n",
       "host_response_time               13679\n",
       "host_response_rate               13679\n",
       "host_is_superhost                  232\n",
       "host_has_profile_pic               232\n",
       "neighbourhood_cleansed               0\n",
       "latitude                             0\n",
       "longitude                            0\n",
       "is_location_exact                    0\n",
       "property_type                        0\n",
       "room_type                            0\n",
       "accommodates                         0\n",
       "bathrooms                          144\n",
       "bedrooms                            73\n",
       "beds                                91\n",
       "bed_type                             0\n",
       "amenities                            0\n",
       "square_feet                      43768\n",
       "price                                0\n",
       "guests_included                      0\n",
       "minimum_nights                       0\n",
       "maximum_nights                       0\n",
       "calendar_updated                     0\n",
       "availability_30                      0\n",
       "number_of_reviews                    0\n",
       "review_scores_rating             10099\n",
       "instant_bookable                     0\n",
       "is_business_travel_ready             0\n",
       "cancellation_policy                  0\n",
       "require_guest_profile_picture        0\n",
       "reviews_per_month                 9474\n",
       "dtype: int64"
      ]
     },
     "execution_count": 4,
     "metadata": {},
     "output_type": "execute_result"
    }
   ],
   "source": [
    "raw_data_df.isnull().sum()"
   ]
  },
  {
   "cell_type": "markdown",
   "id": "3e08eb09",
   "metadata": {
    "id": "3e08eb09"
   },
   "source": [
    "Our research question is centered around the property characteristics and host characteristics of Airbnb rentals, so our first step in cleaning the data was to drop columns that we deemed irrelevant, such as id and calendar updates. Other characteristics like longitude and latitude were too specific for a general audience, as opposed to the general location characteristic. Square footage of the listing would be a beneficial characteristic to include, but after checking the null value, we found that 43768 of the listings do not contain this information, which is 98.7% of our total listings, so we decided to drop it. Finally, given our research question, we chose to include location, property type, and price for property characteristics, and use host response time, host response rate, and cancellation policy for the primary host characteristics. We also need to use review scores rating as our output variable. Furthermore, all other columns will be removed, as we deemed them irrelevant to our research question. "
   ]
  },
  {
   "cell_type": "code",
   "execution_count": 5,
   "id": "dc0a2313",
   "metadata": {
    "colab": {
     "base_uri": "https://localhost:8080/",
     "height": 312
    },
    "id": "dc0a2313",
    "outputId": "bbd7353d-469e-4d68-8c40-3533c3e01098"
   },
   "outputs": [
    {
     "name": "stdout",
     "output_type": "stream",
     "text": [
      "Returning data to local variable data_df\n",
      "(44317, 9)\n",
      "398853\n"
     ]
    },
    {
     "data": {
      "text/html": [
       "<div>\n",
       "<style scoped>\n",
       "    .dataframe tbody tr th:only-of-type {\n",
       "        vertical-align: middle;\n",
       "    }\n",
       "\n",
       "    .dataframe tbody tr th {\n",
       "        vertical-align: top;\n",
       "    }\n",
       "\n",
       "    .dataframe thead th {\n",
       "        text-align: right;\n",
       "    }\n",
       "</style>\n",
       "<table border=\"1\" class=\"dataframe\">\n",
       "  <thead>\n",
       "    <tr style=\"text-align: right;\">\n",
       "      <th></th>\n",
       "      <th>location</th>\n",
       "      <th>longitude</th>\n",
       "      <th>latitude</th>\n",
       "      <th>property_type</th>\n",
       "      <th>price</th>\n",
       "      <th>host_response_time</th>\n",
       "      <th>host_response_rate</th>\n",
       "      <th>cancellation_policy</th>\n",
       "      <th>review_scores_rating</th>\n",
       "    </tr>\n",
       "  </thead>\n",
       "  <tbody>\n",
       "    <tr>\n",
       "      <th>0</th>\n",
       "      <td>Ditmars Steinway</td>\n",
       "      <td>-73.916246</td>\n",
       "      <td>40.774142</td>\n",
       "      <td>Apartment</td>\n",
       "      <td>110</td>\n",
       "      <td>None</td>\n",
       "      <td>None</td>\n",
       "      <td>strict</td>\n",
       "      <td>NaN</td>\n",
       "    </tr>\n",
       "    <tr>\n",
       "      <th>1</th>\n",
       "      <td>City Island</td>\n",
       "      <td>-73.786509</td>\n",
       "      <td>40.849191</td>\n",
       "      <td>House</td>\n",
       "      <td>50</td>\n",
       "      <td>within an hour</td>\n",
       "      <td>100%</td>\n",
       "      <td>moderate</td>\n",
       "      <td>100.0</td>\n",
       "    </tr>\n",
       "    <tr>\n",
       "      <th>2</th>\n",
       "      <td>City Island</td>\n",
       "      <td>-73.786609</td>\n",
       "      <td>40.849775</td>\n",
       "      <td>Apartment</td>\n",
       "      <td>125</td>\n",
       "      <td>within an hour</td>\n",
       "      <td>100%</td>\n",
       "      <td>strict</td>\n",
       "      <td>95.0</td>\n",
       "    </tr>\n",
       "    <tr>\n",
       "      <th>3</th>\n",
       "      <td>City Island</td>\n",
       "      <td>-73.782276</td>\n",
       "      <td>40.848838</td>\n",
       "      <td>Boat</td>\n",
       "      <td>100</td>\n",
       "      <td>within a few hours</td>\n",
       "      <td>100%</td>\n",
       "      <td>strict</td>\n",
       "      <td>NaN</td>\n",
       "    </tr>\n",
       "    <tr>\n",
       "      <th>4</th>\n",
       "      <td>City Island</td>\n",
       "      <td>-73.783052</td>\n",
       "      <td>40.841144</td>\n",
       "      <td>House</td>\n",
       "      <td>300</td>\n",
       "      <td>None</td>\n",
       "      <td>None</td>\n",
       "      <td>strict</td>\n",
       "      <td>NaN</td>\n",
       "    </tr>\n",
       "  </tbody>\n",
       "</table>\n",
       "</div>"
      ],
      "text/plain": [
       "           location  longitude   latitude property_type  price  \\\n",
       "0  Ditmars Steinway -73.916246  40.774142     Apartment    110   \n",
       "1       City Island -73.786509  40.849191         House     50   \n",
       "2       City Island -73.786609  40.849775     Apartment    125   \n",
       "3       City Island -73.782276  40.848838          Boat    100   \n",
       "4       City Island -73.783052  40.841144         House    300   \n",
       "\n",
       "   host_response_time host_response_rate cancellation_policy  \\\n",
       "0                None               None              strict   \n",
       "1      within an hour               100%            moderate   \n",
       "2      within an hour               100%              strict   \n",
       "3  within a few hours               100%              strict   \n",
       "4                None               None              strict   \n",
       "\n",
       "   review_scores_rating  \n",
       "0                   NaN  \n",
       "1                 100.0  \n",
       "2                  95.0  \n",
       "3                   NaN  \n",
       "4                   NaN  "
      ]
     },
     "execution_count": 5,
     "metadata": {},
     "output_type": "execute_result"
    }
   ],
   "source": [
    "%sql data_df << SELECT neighbourhood_cleansed AS location, longitude, latitude, property_type, price, host_response_time, host_response_rate, cancellation_policy, review_scores_rating FROM raw_data_df\n",
    "print(data_df.shape)\n",
    "print(data_df.size)\n",
    "data_df.head()"
   ]
  },
  {
   "cell_type": "markdown",
   "id": "9f75c910",
   "metadata": {
    "id": "9f75c910"
   },
   "source": [
    "We need to further clean the dataset as there are some NaN values for host response time, host response rate and review score rating. We decide to remove rows that contain missing data. We choose to remove incomplete data instead of filling in numbers for missing data because about 31% of the rows do not contain a value for host response time and host response rate, and about 22% of the rows do not contain a value for the review score. We think if we simply fill the missing value with zeros, it will create a strong bias during our sample analysis. Our raw dataset is very large, so removing the raws can still lead to a reliable and consistent dataset."
   ]
  },
  {
   "cell_type": "code",
   "execution_count": 6,
   "id": "e7b67e12",
   "metadata": {
    "id": "e7b67e12",
    "outputId": "d44b4289-bba5-49f3-fb46-431a1aeb0482"
   },
   "outputs": [
    {
     "name": "stdout",
     "output_type": "stream",
     "text": [
      "Returning data to local variable airbnb_df\n",
      "(26620, 9)\n",
      "239580\n"
     ]
    },
    {
     "data": {
      "text/html": [
       "<div>\n",
       "<style scoped>\n",
       "    .dataframe tbody tr th:only-of-type {\n",
       "        vertical-align: middle;\n",
       "    }\n",
       "\n",
       "    .dataframe tbody tr th {\n",
       "        vertical-align: top;\n",
       "    }\n",
       "\n",
       "    .dataframe thead th {\n",
       "        text-align: right;\n",
       "    }\n",
       "</style>\n",
       "<table border=\"1\" class=\"dataframe\">\n",
       "  <thead>\n",
       "    <tr style=\"text-align: right;\">\n",
       "      <th></th>\n",
       "      <th>location</th>\n",
       "      <th>longitude</th>\n",
       "      <th>latitude</th>\n",
       "      <th>property_type</th>\n",
       "      <th>price</th>\n",
       "      <th>host_response_time</th>\n",
       "      <th>host_response_rate</th>\n",
       "      <th>cancellation_policy</th>\n",
       "      <th>review_scores_rating</th>\n",
       "    </tr>\n",
       "  </thead>\n",
       "  <tbody>\n",
       "    <tr>\n",
       "      <th>0</th>\n",
       "      <td>City Island</td>\n",
       "      <td>-73.786509</td>\n",
       "      <td>40.849191</td>\n",
       "      <td>House</td>\n",
       "      <td>50</td>\n",
       "      <td>within an hour</td>\n",
       "      <td>100%</td>\n",
       "      <td>moderate</td>\n",
       "      <td>100.0</td>\n",
       "    </tr>\n",
       "    <tr>\n",
       "      <th>1</th>\n",
       "      <td>City Island</td>\n",
       "      <td>-73.786609</td>\n",
       "      <td>40.849775</td>\n",
       "      <td>Apartment</td>\n",
       "      <td>125</td>\n",
       "      <td>within an hour</td>\n",
       "      <td>100%</td>\n",
       "      <td>strict</td>\n",
       "      <td>95.0</td>\n",
       "    </tr>\n",
       "    <tr>\n",
       "      <th>2</th>\n",
       "      <td>City Island</td>\n",
       "      <td>-73.789328</td>\n",
       "      <td>40.850024</td>\n",
       "      <td>House</td>\n",
       "      <td>69</td>\n",
       "      <td>within an hour</td>\n",
       "      <td>100%</td>\n",
       "      <td>moderate</td>\n",
       "      <td>97.0</td>\n",
       "    </tr>\n",
       "    <tr>\n",
       "      <th>3</th>\n",
       "      <td>City Island</td>\n",
       "      <td>-73.789304</td>\n",
       "      <td>40.851980</td>\n",
       "      <td>Apartment</td>\n",
       "      <td>150</td>\n",
       "      <td>within an hour</td>\n",
       "      <td>100%</td>\n",
       "      <td>flexible</td>\n",
       "      <td>100.0</td>\n",
       "    </tr>\n",
       "    <tr>\n",
       "      <th>4</th>\n",
       "      <td>City Island</td>\n",
       "      <td>-73.788680</td>\n",
       "      <td>40.852054</td>\n",
       "      <td>House</td>\n",
       "      <td>101</td>\n",
       "      <td>within an hour</td>\n",
       "      <td>100%</td>\n",
       "      <td>moderate</td>\n",
       "      <td>100.0</td>\n",
       "    </tr>\n",
       "  </tbody>\n",
       "</table>\n",
       "</div>"
      ],
      "text/plain": [
       "      location  longitude   latitude property_type  price host_response_time  \\\n",
       "0  City Island -73.786509  40.849191         House     50     within an hour   \n",
       "1  City Island -73.786609  40.849775     Apartment    125     within an hour   \n",
       "2  City Island -73.789328  40.850024         House     69     within an hour   \n",
       "3  City Island -73.789304  40.851980     Apartment    150     within an hour   \n",
       "4  City Island -73.788680  40.852054         House    101     within an hour   \n",
       "\n",
       "  host_response_rate cancellation_policy  review_scores_rating  \n",
       "0               100%            moderate                 100.0  \n",
       "1               100%              strict                  95.0  \n",
       "2               100%            moderate                  97.0  \n",
       "3               100%            flexible                 100.0  \n",
       "4               100%            moderate                 100.0  "
      ]
     },
     "execution_count": 6,
     "metadata": {},
     "output_type": "execute_result"
    }
   ],
   "source": [
    "%sql airbnb_df << SELECT* FROM data_df WHERE review_scores_rating is not null and host_response_time is not null and host_response_rate is not null\n",
    "print(airbnb_df.shape)\n",
    "print(airbnb_df.size)\n",
    "airbnb_df.head()"
   ]
  },
  {
   "cell_type": "markdown",
   "id": "9c0b207c",
   "metadata": {
    "id": "9c0b207c"
   },
   "source": [
    "Multi-input linear regression assumes that all the input values are numbers, but the values for several attributes are strings. We will use the map() function to replace these string values to numeric values.\n",
    "\n",
    "First, we assign numeric values to host_response_time category and let larger numbers associate with faster response time. "
   ]
  },
  {
   "cell_type": "code",
   "execution_count": 7,
   "id": "09ab3331",
   "metadata": {
    "id": "09ab3331",
    "outputId": "d593fb58-4f7f-4132-b8f5-8789fad43b4c"
   },
   "outputs": [
    {
     "data": {
      "image/png": "[encoded data removed]",
      "text/plain": [
       "<Figure size 432x288 with 1 Axes>"
      ]
     },
     "metadata": {
      "needs_background": "light"
     },
     "output_type": "display_data"
    }
   ],
   "source": [
    "sns.histplot(data=airbnb_df, x='host_response_time')\n",
    "plt.xticks(rotation = 45)\n",
    "plt.show()"
   ]
  },
  {
   "cell_type": "code",
   "execution_count": 8,
   "id": "ef1c98a8",
   "metadata": {
    "id": "ef1c98a8",
    "outputId": "04cfe1bd-9d7c-45c3-b926-d58fd1d3e9dc"
   },
   "outputs": [
    {
     "data": {
      "text/html": [
       "<div>\n",
       "<style scoped>\n",
       "    .dataframe tbody tr th:only-of-type {\n",
       "        vertical-align: middle;\n",
       "    }\n",
       "\n",
       "    .dataframe tbody tr th {\n",
       "        vertical-align: top;\n",
       "    }\n",
       "\n",
       "    .dataframe thead th {\n",
       "        text-align: right;\n",
       "    }\n",
       "</style>\n",
       "<table border=\"1\" class=\"dataframe\">\n",
       "  <thead>\n",
       "    <tr style=\"text-align: right;\">\n",
       "      <th></th>\n",
       "      <th>location</th>\n",
       "      <th>longitude</th>\n",
       "      <th>latitude</th>\n",
       "      <th>property_type</th>\n",
       "      <th>price</th>\n",
       "      <th>host_response_time</th>\n",
       "      <th>host_response_rate</th>\n",
       "      <th>cancellation_policy</th>\n",
       "      <th>review_scores_rating</th>\n",
       "    </tr>\n",
       "  </thead>\n",
       "  <tbody>\n",
       "    <tr>\n",
       "      <th>0</th>\n",
       "      <td>City Island</td>\n",
       "      <td>-73.786509</td>\n",
       "      <td>40.849191</td>\n",
       "      <td>House</td>\n",
       "      <td>50</td>\n",
       "      <td>4</td>\n",
       "      <td>100%</td>\n",
       "      <td>moderate</td>\n",
       "      <td>100.0</td>\n",
       "    </tr>\n",
       "    <tr>\n",
       "      <th>1</th>\n",
       "      <td>City Island</td>\n",
       "      <td>-73.786609</td>\n",
       "      <td>40.849775</td>\n",
       "      <td>Apartment</td>\n",
       "      <td>125</td>\n",
       "      <td>4</td>\n",
       "      <td>100%</td>\n",
       "      <td>strict</td>\n",
       "      <td>95.0</td>\n",
       "    </tr>\n",
       "    <tr>\n",
       "      <th>2</th>\n",
       "      <td>City Island</td>\n",
       "      <td>-73.789328</td>\n",
       "      <td>40.850024</td>\n",
       "      <td>House</td>\n",
       "      <td>69</td>\n",
       "      <td>4</td>\n",
       "      <td>100%</td>\n",
       "      <td>moderate</td>\n",
       "      <td>97.0</td>\n",
       "    </tr>\n",
       "    <tr>\n",
       "      <th>3</th>\n",
       "      <td>City Island</td>\n",
       "      <td>-73.789304</td>\n",
       "      <td>40.851980</td>\n",
       "      <td>Apartment</td>\n",
       "      <td>150</td>\n",
       "      <td>4</td>\n",
       "      <td>100%</td>\n",
       "      <td>flexible</td>\n",
       "      <td>100.0</td>\n",
       "    </tr>\n",
       "    <tr>\n",
       "      <th>4</th>\n",
       "      <td>City Island</td>\n",
       "      <td>-73.788680</td>\n",
       "      <td>40.852054</td>\n",
       "      <td>House</td>\n",
       "      <td>101</td>\n",
       "      <td>4</td>\n",
       "      <td>100%</td>\n",
       "      <td>moderate</td>\n",
       "      <td>100.0</td>\n",
       "    </tr>\n",
       "    <tr>\n",
       "      <th>5</th>\n",
       "      <td>City Island</td>\n",
       "      <td>-73.789541</td>\n",
       "      <td>40.844870</td>\n",
       "      <td>House</td>\n",
       "      <td>125</td>\n",
       "      <td>4</td>\n",
       "      <td>100%</td>\n",
       "      <td>moderate</td>\n",
       "      <td>97.0</td>\n",
       "    </tr>\n",
       "    <tr>\n",
       "      <th>6</th>\n",
       "      <td>City Island</td>\n",
       "      <td>-73.787621</td>\n",
       "      <td>40.852582</td>\n",
       "      <td>Apartment</td>\n",
       "      <td>115</td>\n",
       "      <td>1</td>\n",
       "      <td>33%</td>\n",
       "      <td>strict</td>\n",
       "      <td>99.0</td>\n",
       "    </tr>\n",
       "    <tr>\n",
       "      <th>7</th>\n",
       "      <td>City Island</td>\n",
       "      <td>-73.789481</td>\n",
       "      <td>40.853061</td>\n",
       "      <td>House</td>\n",
       "      <td>62</td>\n",
       "      <td>4</td>\n",
       "      <td>100%</td>\n",
       "      <td>moderate</td>\n",
       "      <td>87.0</td>\n",
       "    </tr>\n",
       "    <tr>\n",
       "      <th>8</th>\n",
       "      <td>City Island</td>\n",
       "      <td>-73.784139</td>\n",
       "      <td>40.851391</td>\n",
       "      <td>House</td>\n",
       "      <td>85</td>\n",
       "      <td>4</td>\n",
       "      <td>100%</td>\n",
       "      <td>flexible</td>\n",
       "      <td>98.0</td>\n",
       "    </tr>\n",
       "    <tr>\n",
       "      <th>9</th>\n",
       "      <td>Allerton</td>\n",
       "      <td>-73.859378</td>\n",
       "      <td>40.866770</td>\n",
       "      <td>House</td>\n",
       "      <td>44</td>\n",
       "      <td>4</td>\n",
       "      <td>100%</td>\n",
       "      <td>strict</td>\n",
       "      <td>91.0</td>\n",
       "    </tr>\n",
       "  </tbody>\n",
       "</table>\n",
       "</div>"
      ],
      "text/plain": [
       "      location  longitude   latitude property_type  price  host_response_time  \\\n",
       "0  City Island -73.786509  40.849191         House     50                   4   \n",
       "1  City Island -73.786609  40.849775     Apartment    125                   4   \n",
       "2  City Island -73.789328  40.850024         House     69                   4   \n",
       "3  City Island -73.789304  40.851980     Apartment    150                   4   \n",
       "4  City Island -73.788680  40.852054         House    101                   4   \n",
       "5  City Island -73.789541  40.844870         House    125                   4   \n",
       "6  City Island -73.787621  40.852582     Apartment    115                   1   \n",
       "7  City Island -73.789481  40.853061         House     62                   4   \n",
       "8  City Island -73.784139  40.851391         House     85                   4   \n",
       "9     Allerton -73.859378  40.866770         House     44                   4   \n",
       "\n",
       "  host_response_rate cancellation_policy  review_scores_rating  \n",
       "0               100%            moderate                 100.0  \n",
       "1               100%              strict                  95.0  \n",
       "2               100%            moderate                  97.0  \n",
       "3               100%            flexible                 100.0  \n",
       "4               100%            moderate                 100.0  \n",
       "5               100%            moderate                  97.0  \n",
       "6                33%              strict                  99.0  \n",
       "7               100%            moderate                  87.0  \n",
       "8               100%            flexible                  98.0  \n",
       "9               100%              strict                  91.0  "
      ]
     },
     "execution_count": 8,
     "metadata": {},
     "output_type": "execute_result"
    }
   ],
   "source": [
    "#Larger numbers are associated with faster response time\n",
    "response_time_map = {\"a few days or more\": 1, \"within a day\": 2, \"within a few hours\": 3, \"within an hour\": 4}\n",
    "airbnb_df['host_response_time'] = airbnb_df['host_response_time'].map(response_time_map)\n",
    "airbnb_df.head(10)"
   ]
  },
  {
   "cell_type": "markdown",
   "id": "7f144268",
   "metadata": {
    "id": "7f144268"
   },
   "source": [
    "Next, we we assign numeric values to cancellation_policy category and let larger numbers associate with more flexible policy. "
   ]
  },
  {
   "cell_type": "code",
   "execution_count": 9,
   "id": "ac038366",
   "metadata": {
    "id": "ac038366",
    "outputId": "2eeb620a-8db8-4090-b162-5772fc0c0d25"
   },
   "outputs": [
    {
     "data": {
      "image/png": "[encoded data removed]",
      "text/plain": [
       "<Figure size 432x288 with 1 Axes>"
      ]
     },
     "metadata": {
      "needs_background": "light"
     },
     "output_type": "display_data"
    }
   ],
   "source": [
    "sns.histplot(data=airbnb_df, x='cancellation_policy')\n",
    "plt.xticks(rotation = 45)\n",
    "plt.show()"
   ]
  },
  {
   "cell_type": "code",
   "execution_count": 10,
   "id": "3a01f277",
   "metadata": {
    "id": "3a01f277",
    "outputId": "fb979689-cf60-48fc-ee87-e1209ff11d31"
   },
   "outputs": [
    {
     "data": {
      "text/html": [
       "<div>\n",
       "<style scoped>\n",
       "    .dataframe tbody tr th:only-of-type {\n",
       "        vertical-align: middle;\n",
       "    }\n",
       "\n",
       "    .dataframe tbody tr th {\n",
       "        vertical-align: top;\n",
       "    }\n",
       "\n",
       "    .dataframe thead th {\n",
       "        text-align: right;\n",
       "    }\n",
       "</style>\n",
       "<table border=\"1\" class=\"dataframe\">\n",
       "  <thead>\n",
       "    <tr style=\"text-align: right;\">\n",
       "      <th></th>\n",
       "      <th>location</th>\n",
       "      <th>longitude</th>\n",
       "      <th>latitude</th>\n",
       "      <th>property_type</th>\n",
       "      <th>price</th>\n",
       "      <th>host_response_time</th>\n",
       "      <th>host_response_rate</th>\n",
       "      <th>cancellation_policy</th>\n",
       "      <th>review_scores_rating</th>\n",
       "    </tr>\n",
       "  </thead>\n",
       "  <tbody>\n",
       "    <tr>\n",
       "      <th>0</th>\n",
       "      <td>City Island</td>\n",
       "      <td>-73.786509</td>\n",
       "      <td>40.849191</td>\n",
       "      <td>House</td>\n",
       "      <td>50</td>\n",
       "      <td>4</td>\n",
       "      <td>100%</td>\n",
       "      <td>4</td>\n",
       "      <td>100.0</td>\n",
       "    </tr>\n",
       "    <tr>\n",
       "      <th>1</th>\n",
       "      <td>City Island</td>\n",
       "      <td>-73.786609</td>\n",
       "      <td>40.849775</td>\n",
       "      <td>Apartment</td>\n",
       "      <td>125</td>\n",
       "      <td>4</td>\n",
       "      <td>100%</td>\n",
       "      <td>3</td>\n",
       "      <td>95.0</td>\n",
       "    </tr>\n",
       "    <tr>\n",
       "      <th>2</th>\n",
       "      <td>City Island</td>\n",
       "      <td>-73.789328</td>\n",
       "      <td>40.850024</td>\n",
       "      <td>House</td>\n",
       "      <td>69</td>\n",
       "      <td>4</td>\n",
       "      <td>100%</td>\n",
       "      <td>4</td>\n",
       "      <td>97.0</td>\n",
       "    </tr>\n",
       "    <tr>\n",
       "      <th>3</th>\n",
       "      <td>City Island</td>\n",
       "      <td>-73.789304</td>\n",
       "      <td>40.851980</td>\n",
       "      <td>Apartment</td>\n",
       "      <td>150</td>\n",
       "      <td>4</td>\n",
       "      <td>100%</td>\n",
       "      <td>5</td>\n",
       "      <td>100.0</td>\n",
       "    </tr>\n",
       "    <tr>\n",
       "      <th>4</th>\n",
       "      <td>City Island</td>\n",
       "      <td>-73.788680</td>\n",
       "      <td>40.852054</td>\n",
       "      <td>House</td>\n",
       "      <td>101</td>\n",
       "      <td>4</td>\n",
       "      <td>100%</td>\n",
       "      <td>4</td>\n",
       "      <td>100.0</td>\n",
       "    </tr>\n",
       "  </tbody>\n",
       "</table>\n",
       "</div>"
      ],
      "text/plain": [
       "      location  longitude   latitude property_type  price  host_response_time  \\\n",
       "0  City Island -73.786509  40.849191         House     50                   4   \n",
       "1  City Island -73.786609  40.849775     Apartment    125                   4   \n",
       "2  City Island -73.789328  40.850024         House     69                   4   \n",
       "3  City Island -73.789304  40.851980     Apartment    150                   4   \n",
       "4  City Island -73.788680  40.852054         House    101                   4   \n",
       "\n",
       "  host_response_rate  cancellation_policy  review_scores_rating  \n",
       "0               100%                    4                 100.0  \n",
       "1               100%                    3                  95.0  \n",
       "2               100%                    4                  97.0  \n",
       "3               100%                    5                 100.0  \n",
       "4               100%                    4                 100.0  "
      ]
     },
     "execution_count": 10,
     "metadata": {},
     "output_type": "execute_result"
    }
   ],
   "source": [
    "#Larger numbers are associated with more flexible policy\n",
    "cancellation_map = {\"super_strict_60\": 1, \"super_strict_30\": 2, \"strict\": 3, \"moderate\": 4, \"flexible\": 5}\n",
    "airbnb_df['cancellation_policy'] = airbnb_df['cancellation_policy'].map(cancellation_map)\n",
    "airbnb_df.head()"
   ]
  },
  {
   "cell_type": "code",
   "execution_count": 11,
   "id": "fe0fdb7a",
   "metadata": {
    "id": "fe0fdb7a",
    "outputId": "36bd0105-1751-4b6d-ab74-7185729cd08f"
   },
   "outputs": [
    {
     "name": "stdout",
     "output_type": "stream",
     "text": [
      "object\n"
     ]
    }
   ],
   "source": [
    "print(airbnb_df['host_response_rate'].dtype)"
   ]
  },
  {
   "cell_type": "markdown",
   "id": "0511ead8",
   "metadata": {
    "id": "0511ead8"
   },
   "source": [
    "We find that host_response_rate are objects, so we need to change its type to float to ease the data analysis process. "
   ]
  },
  {
   "cell_type": "code",
   "execution_count": 12,
   "id": "e12c0d2b",
   "metadata": {
    "id": "e12c0d2b",
    "outputId": "b70dc6ad-cfef-4a8f-82a0-f9b4f6331f11"
   },
   "outputs": [
    {
     "name": "stdout",
     "output_type": "stream",
     "text": [
      "float64\n"
     ]
    },
    {
     "data": {
      "text/html": [
       "<div>\n",
       "<style scoped>\n",
       "    .dataframe tbody tr th:only-of-type {\n",
       "        vertical-align: middle;\n",
       "    }\n",
       "\n",
       "    .dataframe tbody tr th {\n",
       "        vertical-align: top;\n",
       "    }\n",
       "\n",
       "    .dataframe thead th {\n",
       "        text-align: right;\n",
       "    }\n",
       "</style>\n",
       "<table border=\"1\" class=\"dataframe\">\n",
       "  <thead>\n",
       "    <tr style=\"text-align: right;\">\n",
       "      <th></th>\n",
       "      <th>location</th>\n",
       "      <th>longitude</th>\n",
       "      <th>latitude</th>\n",
       "      <th>property_type</th>\n",
       "      <th>price</th>\n",
       "      <th>host_response_time</th>\n",
       "      <th>host_response_rate</th>\n",
       "      <th>cancellation_policy</th>\n",
       "      <th>review_scores_rating</th>\n",
       "    </tr>\n",
       "  </thead>\n",
       "  <tbody>\n",
       "    <tr>\n",
       "      <th>0</th>\n",
       "      <td>City Island</td>\n",
       "      <td>-73.786509</td>\n",
       "      <td>40.849191</td>\n",
       "      <td>House</td>\n",
       "      <td>50</td>\n",
       "      <td>4</td>\n",
       "      <td>1.0</td>\n",
       "      <td>4</td>\n",
       "      <td>100.0</td>\n",
       "    </tr>\n",
       "    <tr>\n",
       "      <th>1</th>\n",
       "      <td>City Island</td>\n",
       "      <td>-73.786609</td>\n",
       "      <td>40.849775</td>\n",
       "      <td>Apartment</td>\n",
       "      <td>125</td>\n",
       "      <td>4</td>\n",
       "      <td>1.0</td>\n",
       "      <td>3</td>\n",
       "      <td>95.0</td>\n",
       "    </tr>\n",
       "    <tr>\n",
       "      <th>2</th>\n",
       "      <td>City Island</td>\n",
       "      <td>-73.789328</td>\n",
       "      <td>40.850024</td>\n",
       "      <td>House</td>\n",
       "      <td>69</td>\n",
       "      <td>4</td>\n",
       "      <td>1.0</td>\n",
       "      <td>4</td>\n",
       "      <td>97.0</td>\n",
       "    </tr>\n",
       "    <tr>\n",
       "      <th>3</th>\n",
       "      <td>City Island</td>\n",
       "      <td>-73.789304</td>\n",
       "      <td>40.851980</td>\n",
       "      <td>Apartment</td>\n",
       "      <td>150</td>\n",
       "      <td>4</td>\n",
       "      <td>1.0</td>\n",
       "      <td>5</td>\n",
       "      <td>100.0</td>\n",
       "    </tr>\n",
       "    <tr>\n",
       "      <th>4</th>\n",
       "      <td>City Island</td>\n",
       "      <td>-73.788680</td>\n",
       "      <td>40.852054</td>\n",
       "      <td>House</td>\n",
       "      <td>101</td>\n",
       "      <td>4</td>\n",
       "      <td>1.0</td>\n",
       "      <td>4</td>\n",
       "      <td>100.0</td>\n",
       "    </tr>\n",
       "  </tbody>\n",
       "</table>\n",
       "</div>"
      ],
      "text/plain": [
       "      location  longitude   latitude property_type  price  host_response_time  \\\n",
       "0  City Island -73.786509  40.849191         House     50                   4   \n",
       "1  City Island -73.786609  40.849775     Apartment    125                   4   \n",
       "2  City Island -73.789328  40.850024         House     69                   4   \n",
       "3  City Island -73.789304  40.851980     Apartment    150                   4   \n",
       "4  City Island -73.788680  40.852054         House    101                   4   \n",
       "\n",
       "   host_response_rate  cancellation_policy  review_scores_rating  \n",
       "0                 1.0                    4                 100.0  \n",
       "1                 1.0                    3                  95.0  \n",
       "2                 1.0                    4                  97.0  \n",
       "3                 1.0                    5                 100.0  \n",
       "4                 1.0                    4                 100.0  "
      ]
     },
     "execution_count": 12,
     "metadata": {},
     "output_type": "execute_result"
    }
   ],
   "source": [
    "airbnb_df['host_response_rate'] = airbnb_df['host_response_rate'].astype('str') \n",
    "airbnb_df['host_response_rate'] = airbnb_df['host_response_rate'].str.rstrip('%').astype('float')/100\n",
    "print(airbnb_df['host_response_rate'].dtype)\n",
    "airbnb_df.head()"
   ]
  },
  {
   "cell_type": "markdown",
   "id": "6a22b664",
   "metadata": {},
   "source": [
    "to do: too many unique locations(211), hard to analyze, need to change to neighbourhood group"
   ]
  },
  {
   "cell_type": "code",
   "execution_count": 13,
   "id": "c6c13883",
   "metadata": {},
   "outputs": [
    {
     "name": "stdout",
     "output_type": "stream",
     "text": [
      "['City Island' 'Allerton' 'Ditmars Steinway' 'Soundview' 'Ozone Park'\n",
      " 'Fordham' 'Whitestone' 'Arden Heights' 'Arrochar' 'Arverne' 'Astoria'\n",
      " 'Bath Beach' 'Bayside' 'Battery Park City' 'Bay Ridge' 'Bay Terrace'\n",
      " 'Baychester' 'Bayswater' 'Bedford-Stuyvesant' 'Belle Harbor' 'Bellerose'\n",
      " 'Belmont' 'Bensonhurst' 'Bergen Beach' 'Boerum Hill' 'Borough Park'\n",
      " 'Briarwood' 'Brighton Beach' 'Prospect-Lefferts Gardens' 'Mott Haven'\n",
      " 'Bronxdale' 'Brooklyn Heights' 'Brownsville' 'Bushwick' 'Cambria Heights'\n",
      " 'Chinatown' 'Canarsie' 'Carroll Gardens' 'Castle Hill'\n",
      " 'Castleton Corners' 'Chelsea' 'Civic Center' 'Claremont Village'\n",
      " 'Clason Point' 'Clifton' 'Clinton Hill' 'Co-op City' 'Cobble Hill'\n",
      " 'College Point' 'Crown Heights' 'Columbia St' 'Concord' 'Concourse'\n",
      " 'Concourse Village' 'Coney Island' 'Corona' 'Mount Eden' 'Mount Hope'\n",
      " 'Cypress Hills' 'DUMBO' 'Dongan Hills' 'Douglaston' 'Downtown Brooklyn'\n",
      " 'Dyker Heights' 'East Elmhurst' 'East Flatbush' 'East Harlem'\n",
      " 'East Morrisania' 'Eltingville' 'Emerson Hill' 'Elmhurst' 'Fieldston'\n",
      " 'East New York' 'East Village' 'Eastchester' 'Edenwald' 'Edgemere'\n",
      " 'Far Rockaway' 'Jamaica Estates' 'Financial District' 'Flatbush'\n",
      " 'Flatiron District' 'Flatlands' 'Laurelton' 'Flushing' 'Gowanus'\n",
      " 'Forest Hills' 'Fort Greene' 'Fort Hamilton' 'Fresh Meadows' 'Gramercy'\n",
      " 'Graniteville' 'Grant City' 'Jamaica Hills' 'Glen Oaks' 'Glendale'\n",
      " 'Gravesend' 'Kensington' 'Kew Gardens' 'Great Kills' 'Huguenot'\n",
      " 'Greenpoint' 'Greenwich Village' 'Grymes Hill' 'Harlem' \"Hell's Kitchen\"\n",
      " 'Highbridge' 'Hollis' 'Hollis Hills' 'Holliswood' 'Howard Beach'\n",
      " 'Howland Hook' 'Hunts Point' 'Inwood' 'Jackson Heights' 'Jamaica'\n",
      " 'Morris Park' 'Kew Gardens Hills' 'Kingsbridge' 'Kips Bay'\n",
      " 'Lighthouse Hill' 'Little Italy' 'Little Neck' 'Morrisania' 'Murray Hill'\n",
      " 'Long Island City' 'Longwood' 'Lower East Side' 'Manhattan Beach'\n",
      " 'Marble Hill' 'Midtown' 'Midwood' 'Norwood' 'Oakwood' 'Morris Heights'\n",
      " 'Mariners Harbor' 'Maspeth' 'Melrose' 'Middle Village' 'Midland Beach'\n",
      " 'Mill Basin' 'Morningside Heights' 'Navy Yard' 'Neponsit' 'New Brighton'\n",
      " 'New Springville' 'NoHo' 'Nolita' 'North Riverdale' 'Park Slope'\n",
      " 'Parkchester' 'Pelham Bay' 'Queens Village' 'Pelham Gardens'\n",
      " 'Port Morris' 'Port Richmond' 'Prospect Heights' 'Randall Manor'\n",
      " 'Red Hook' 'Rego Park' 'Richmond Hill' 'Richmondtown' 'Ridgewood'\n",
      " 'Sea Gate' 'Riverdale' 'Rockaway Beach' 'Roosevelt Island' 'Shore Acres'\n",
      " 'Silver Lake' 'SoHo' 'Woodrow' 'Rosedale' 'Schuylerville'\n",
      " 'Sheepshead Bay' 'South Beach' 'South Ozone Park' 'South Slope'\n",
      " 'Springfield Gardens' 'Spuyten Duyvil' 'St. Albans' 'Tompkinsville'\n",
      " 'St. George' 'Stapleton' 'Stuyvesant Town' 'Sunnyside' 'Van Nest'\n",
      " 'Sunset Park' 'Theater District' 'Throgs Neck' 'Todt Hill' 'Tottenville'\n",
      " 'Tremont' 'Tribeca' 'Two Bridges' 'Vinegar Hill' 'Woodside' 'Unionport'\n",
      " 'University Heights' 'Upper East Side' 'Upper West Side'\n",
      " 'Windsor Terrace' 'Wakefield' 'Washington Heights' 'West Brighton'\n",
      " 'West Farms' 'Woodhaven' 'Woodlawn' 'West Village' 'Westchester Square'\n",
      " 'Williamsbridge' 'Williamsburg']\n",
      "211\n"
     ]
    }
   ],
   "source": [
    "uniquelocation = airbnb_df['location'].unique()\n",
    "print(uniquelocation)\n",
    "num_unique = len(uniquelocation)\n",
    "print(num_unique)"
   ]
  },
  {
   "cell_type": "markdown",
   "id": "5a7e2334",
   "metadata": {},
   "source": [
    "find another dataset that has neighbourhood group & precise neighbour, use it as a dictionary"
   ]
  },
  {
   "cell_type": "code",
   "execution_count": 14,
   "id": "a0e1745e",
   "metadata": {},
   "outputs": [
    {
     "name": "stdout",
     "output_type": "stream",
     "text": [
      "Returning data to local variable location_df1\n"
     ]
    },
    {
     "data": {
      "text/html": [
       "<div>\n",
       "<style scoped>\n",
       "    .dataframe tbody tr th:only-of-type {\n",
       "        vertical-align: middle;\n",
       "    }\n",
       "\n",
       "    .dataframe tbody tr th {\n",
       "        vertical-align: top;\n",
       "    }\n",
       "\n",
       "    .dataframe thead th {\n",
       "        text-align: right;\n",
       "    }\n",
       "</style>\n",
       "<table border=\"1\" class=\"dataframe\">\n",
       "  <thead>\n",
       "    <tr style=\"text-align: right;\">\n",
       "      <th></th>\n",
       "      <th>neighbourhood_group</th>\n",
       "    </tr>\n",
       "    <tr>\n",
       "      <th>neighbourhood</th>\n",
       "      <th></th>\n",
       "    </tr>\n",
       "  </thead>\n",
       "  <tbody>\n",
       "    <tr>\n",
       "      <th>Kensington</th>\n",
       "      <td>Brooklyn</td>\n",
       "    </tr>\n",
       "    <tr>\n",
       "      <th>Midtown</th>\n",
       "      <td>Manhattan</td>\n",
       "    </tr>\n",
       "    <tr>\n",
       "      <th>Harlem</th>\n",
       "      <td>Manhattan</td>\n",
       "    </tr>\n",
       "    <tr>\n",
       "      <th>Clinton Hill</th>\n",
       "      <td>Brooklyn</td>\n",
       "    </tr>\n",
       "    <tr>\n",
       "      <th>East Harlem</th>\n",
       "      <td>Manhattan</td>\n",
       "    </tr>\n",
       "  </tbody>\n",
       "</table>\n",
       "</div>"
      ],
      "text/plain": [
       "              neighbourhood_group\n",
       "neighbourhood                    \n",
       "Kensington               Brooklyn\n",
       "Midtown                 Manhattan\n",
       "Harlem                  Manhattan\n",
       "Clinton Hill             Brooklyn\n",
       "East Harlem             Manhattan"
      ]
     },
     "execution_count": 14,
     "metadata": {},
     "output_type": "execute_result"
    }
   ],
   "source": [
    "location_df = pd.read_csv('location.csv')\n",
    "%sql location_df1 << SELECT neighbourhood, neighbourhood_group FROM location_df\n",
    "location_df1.head()\n",
    "location_df1.set_index(\"neighbourhood\", inplace=True)\n",
    "location_df1.head()"
   ]
  },
  {
   "cell_type": "code",
   "execution_count": 15,
   "id": "9a5f0a36",
   "metadata": {},
   "outputs": [],
   "source": [
    "location = location_df1.to_dict('dict')\n",
    "#print(location_map)\n",
    "location_map = location['neighbourhood_group']"
   ]
  },
  {
   "cell_type": "code",
   "execution_count": 16,
   "id": "3437e565",
   "metadata": {},
   "outputs": [
    {
     "data": {
      "text/html": [
       "<div>\n",
       "<style scoped>\n",
       "    .dataframe tbody tr th:only-of-type {\n",
       "        vertical-align: middle;\n",
       "    }\n",
       "\n",
       "    .dataframe tbody tr th {\n",
       "        vertical-align: top;\n",
       "    }\n",
       "\n",
       "    .dataframe thead th {\n",
       "        text-align: right;\n",
       "    }\n",
       "</style>\n",
       "<table border=\"1\" class=\"dataframe\">\n",
       "  <thead>\n",
       "    <tr style=\"text-align: right;\">\n",
       "      <th></th>\n",
       "      <th>location</th>\n",
       "      <th>longitude</th>\n",
       "      <th>latitude</th>\n",
       "      <th>property_type</th>\n",
       "      <th>price</th>\n",
       "      <th>host_response_time</th>\n",
       "      <th>host_response_rate</th>\n",
       "      <th>cancellation_policy</th>\n",
       "      <th>review_scores_rating</th>\n",
       "    </tr>\n",
       "  </thead>\n",
       "  <tbody>\n",
       "    <tr>\n",
       "      <th>0</th>\n",
       "      <td>Bronx</td>\n",
       "      <td>-73.786509</td>\n",
       "      <td>40.849191</td>\n",
       "      <td>House</td>\n",
       "      <td>50</td>\n",
       "      <td>4</td>\n",
       "      <td>1.0</td>\n",
       "      <td>4</td>\n",
       "      <td>100.0</td>\n",
       "    </tr>\n",
       "    <tr>\n",
       "      <th>1</th>\n",
       "      <td>Bronx</td>\n",
       "      <td>-73.786609</td>\n",
       "      <td>40.849775</td>\n",
       "      <td>Apartment</td>\n",
       "      <td>125</td>\n",
       "      <td>4</td>\n",
       "      <td>1.0</td>\n",
       "      <td>3</td>\n",
       "      <td>95.0</td>\n",
       "    </tr>\n",
       "    <tr>\n",
       "      <th>2</th>\n",
       "      <td>Bronx</td>\n",
       "      <td>-73.789328</td>\n",
       "      <td>40.850024</td>\n",
       "      <td>House</td>\n",
       "      <td>69</td>\n",
       "      <td>4</td>\n",
       "      <td>1.0</td>\n",
       "      <td>4</td>\n",
       "      <td>97.0</td>\n",
       "    </tr>\n",
       "    <tr>\n",
       "      <th>3</th>\n",
       "      <td>Bronx</td>\n",
       "      <td>-73.789304</td>\n",
       "      <td>40.851980</td>\n",
       "      <td>Apartment</td>\n",
       "      <td>150</td>\n",
       "      <td>4</td>\n",
       "      <td>1.0</td>\n",
       "      <td>5</td>\n",
       "      <td>100.0</td>\n",
       "    </tr>\n",
       "    <tr>\n",
       "      <th>4</th>\n",
       "      <td>Bronx</td>\n",
       "      <td>-73.788680</td>\n",
       "      <td>40.852054</td>\n",
       "      <td>House</td>\n",
       "      <td>101</td>\n",
       "      <td>4</td>\n",
       "      <td>1.0</td>\n",
       "      <td>4</td>\n",
       "      <td>100.0</td>\n",
       "    </tr>\n",
       "  </tbody>\n",
       "</table>\n",
       "</div>"
      ],
      "text/plain": [
       "  location  longitude   latitude property_type  price  host_response_time  \\\n",
       "0    Bronx -73.786509  40.849191         House     50                   4   \n",
       "1    Bronx -73.786609  40.849775     Apartment    125                   4   \n",
       "2    Bronx -73.789328  40.850024         House     69                   4   \n",
       "3    Bronx -73.789304  40.851980     Apartment    150                   4   \n",
       "4    Bronx -73.788680  40.852054         House    101                   4   \n",
       "\n",
       "   host_response_rate  cancellation_policy  review_scores_rating  \n",
       "0                 1.0                    4                 100.0  \n",
       "1                 1.0                    3                  95.0  \n",
       "2                 1.0                    4                  97.0  \n",
       "3                 1.0                    5                 100.0  \n",
       "4                 1.0                    4                 100.0  "
      ]
     },
     "execution_count": 16,
     "metadata": {},
     "output_type": "execute_result"
    }
   ],
   "source": [
    "airbnb_df['location'].astype(str)\n",
    "airbnb_df['location'] = airbnb_df['location'].map(location_map)\n",
    "airbnb_df.head()"
   ]
  },
  {
   "cell_type": "code",
   "execution_count": 17,
   "id": "d1909535",
   "metadata": {},
   "outputs": [
    {
     "data": {
      "image/png": "[encoded data removed]",
      "text/plain": [
       "<Figure size 432x288 with 1 Axes>"
      ]
     },
     "metadata": {
      "needs_background": "light"
     },
     "output_type": "display_data"
    }
   ],
   "source": [
    "sns.histplot(data=airbnb_df, x='location')\n",
    "plt.xticks(rotation = 45)\n",
    "plt.show()"
   ]
  },
  {
   "cell_type": "markdown",
   "id": "de968eaf",
   "metadata": {},
   "source": [
    "three NaN value for location, remove them"
   ]
  },
  {
   "cell_type": "code",
   "execution_count": 18,
   "id": "7850f58f",
   "metadata": {},
   "outputs": [
    {
     "name": "stdout",
     "output_type": "stream",
     "text": [
      "Returning data to local variable airbnb_df\n"
     ]
    }
   ],
   "source": [
    "%sql airbnb_df << SELECT* FROM airbnb_df WHERE location is not null"
   ]
  },
  {
   "cell_type": "code",
   "execution_count": 19,
   "id": "3977b546",
   "metadata": {
    "id": "3977b546",
    "outputId": "5398cc46-f400-42a3-ff7f-85cbe79df0d8"
   },
   "outputs": [
    {
     "data": {
      "text/plain": [
       "location                0\n",
       "longitude               0\n",
       "latitude                0\n",
       "property_type           0\n",
       "price                   0\n",
       "host_response_time      0\n",
       "host_response_rate      0\n",
       "cancellation_policy     0\n",
       "review_scores_rating    0\n",
       "dtype: int64"
      ]
     },
     "execution_count": 19,
     "metadata": {},
     "output_type": "execute_result"
    }
   ],
   "source": [
    "airbnb_df.isnull().sum()"
   ]
  },
  {
   "cell_type": "markdown",
   "id": "8848a937",
   "metadata": {
    "id": "8848a937"
   },
   "source": [
    "At this point, our data is in good quality. The clean dataframe has 26620 rows and 7 columns. The size of the dataframe is 186340, which is a large, representative dataset for our analysis. We are ready to explore the dataset further. The cleaned data is exported as cleaned_airbnb_data.csv."
   ]
  },
  {
   "cell_type": "code",
   "execution_count": 20,
   "id": "5a2fcd75",
   "metadata": {
    "colab": {
     "base_uri": "https://localhost:8080/",
     "height": 169
    },
    "id": "5a2fcd75",
    "outputId": "580b3e49-f0cc-4b0f-99af-e2fc35f79f1e"
   },
   "outputs": [],
   "source": [
    "airbnb_df.to_csv('cleaned_airbnb_data.csv')"
   ]
  },
  {
   "cell_type": "markdown",
   "id": "f35948ed",
   "metadata": {
    "id": "f35948ed"
   },
   "source": [
    "## Data description - Aliya"
   ]
  },
  {
   "cell_type": "markdown",
   "id": "975062ea",
   "metadata": {
    "id": "975062ea"
   },
   "source": [
    "The data source we used is https://www.kaggle.com/datasets/ivanovskia1/nyc-airbnb-rental-data-october-2017?resource=download. Our cleaned data contains 26620 properties and the data was accumulated in New York, NY in October 2017.\n",
    "\n",
    "This consists of information to find out about hosts, geographical and property characteristic information used to make predictions and draw conclusions. Specifically, the observations in our data are the different Airbnb properties listed in New York City in October 2017 and the attributes are host response time, response rate, host cancellation policy, location, property type, price, and review score rating. These variables will then all be used to answer our research question regarding whether host characteristics or property characteristics impact Airbnb reviews more.  \n",
    "\n",
    "This data was sourced from a website with Airbnb data known as Inside Airbnb. The Inside Airbnb is a mission-driven project that provides data and advocacy about Airbnb's impact on residential communities. Donations fund the collection and hosting of data, the development of analytic and activist tools, and help sustain the project. Subsequently, the data collected may have been biased towards data that shows Airbnb listings which are entire homes, showing its impact on the housing market. The Airbnb's which disrupt the hotel industry or which are property such as boats were probably less likely to be recorded.\n",
    "\n",
    "This data was then taken from the Inside Airbnb website and got cleaned and processed into a dataset and then uploaded on kaggle. This is the dataset that was downloaded and used in this project. The people involved in the data were not aware about the study, the data about them was sourced by taking the information off the publicly available Airbnb website and compiling it. \n",
    "\n",
    "Link to the raw data here: https://drive.google.com/file/d/1XSb32p2DSTveb-4yvYIPQPTCIuojQ3f6/view?usp=sharing\n"
   ]
  },
  {
   "cell_type": "code",
   "execution_count": 21,
   "id": "cd3d10a4",
   "metadata": {
    "id": "cd3d10a4",
    "outputId": "529cd8fe-6037-4e74-f524-22433bae100f"
   },
   "outputs": [
    {
     "name": "stdout",
     "output_type": "stream",
     "text": [
      "Here are the types of each of the variables:\n",
      "location                 object\n",
      "longitude               float64\n",
      "latitude                float64\n",
      "property_type            object\n",
      "price                     int64\n",
      "host_response_time        int64\n",
      "host_response_rate      float64\n",
      "cancellation_policy       int64\n",
      "review_scores_rating    float64\n",
      "dtype: object\n"
     ]
    }
   ],
   "source": [
    "variable_types = airbnb_df.dtypes\n",
    "print('Here are the types of each of the variables:')\n",
    "print(variable_types)"
   ]
  },
  {
   "cell_type": "markdown",
   "id": "77bde337",
   "metadata": {
    "id": "77bde337"
   },
   "source": [
    "The descriptions of each of the variables are: \n",
    "- location: represents the neighborhood in New York the property is located\n",
    "- property_type: represents the type of Airbnb being rented for example a house, apartment or boat\n",
    "- price: represents the nightly rate of the property\n",
    "- host_response_time: the average time a host takes to respond\n",
    "- host_response_rate: the rate a host responds to a booking request\n",
    "- cancellation_policy: whether the host's policy is strict or flexible (should we change this to boolean?)\n",
    "- review_scores_rating: the Airbnb rating on a scale of 0-100"
   ]
  },
  {
   "cell_type": "markdown",
   "id": "RDisJ1K6diVm",
   "metadata": {
    "id": "RDisJ1K6diVm"
   },
   "source": []
  },
  {
   "cell_type": "markdown",
   "id": "82a5f106",
   "metadata": {
    "id": "82a5f106"
   },
   "source": [
    "## Data Analysis- Douglas\n",
    "\n",
    "### Summary Statistics\n",
    "\n",
    "The first step in exploratory data analysis was to calculate summary functions for some of the relevant variables. This includes the standard deviation and mean for numerical values for the property characteristics mainly price and host characteristics mainly response time compared to the review scores.\n",
    "\n",
    "We will then analyze how review scores also vary to get a general idea of the average review and the standard deviation."
   ]
  },
  {
   "cell_type": "code",
   "execution_count": 22,
   "id": "0110fcd3",
   "metadata": {
    "id": "0110fcd3",
    "outputId": "d10e6637-5cd6-4af0-86c5-e9d366f2009e"
   },
   "outputs": [
    {
     "name": "stdout",
     "output_type": "stream",
     "text": [
      "Mean of price: 143.8412292895518\n",
      "Standard deviation of price: 173.79813049951315\n",
      "Mean of response: 0.9464398692564985\n",
      "Standard deviation of response rate: 0.14714588069257667\n",
      "Mean of reviews: 93.6558214674832\n",
      "Standard deviation of reviews: 7.470023201837661\n"
     ]
    }
   ],
   "source": [
    "from statistics import mean, median, mode, stdev\n",
    "\n",
    "price_mean = airbnb_df['price'].mean()\n",
    "print('Mean of price: ' + str(price_mean))\n",
    "price_std = airbnb_df['price'].std()\n",
    "print('Standard deviation of price: ' + str(price_std))\n",
    "\n",
    "response_rate_mean = airbnb_df['host_response_rate'].mean()\n",
    "print('Mean of response: ' + str(response_rate_mean))\n",
    "response_rate_mean_std = airbnb_df['host_response_rate'].std()\n",
    "print('Standard deviation of response rate: ' + str(response_rate_mean_std))\n",
    "\n",
    "review_scores_mean = airbnb_df['review_scores_rating'].mean()\n",
    "print('Mean of reviews: ' + str(review_scores_mean))\n",
    "review_scores_std = airbnb_df['review_scores_rating'].std()\n",
    "print('Standard deviation of reviews: ' + str(review_scores_std ))"
   ]
  },
  {
   "cell_type": "markdown",
   "id": "633eeacf",
   "metadata": {
    "id": "633eeacf"
   },
   "source": [
    "\n",
    "As for the property characteristics we calculated the average nightly rate for an Airbnb rental was \\\\$143.85, and that the standard deviation was significantly high at \\\\$173.80. This indicated that there is drastic variation in the nightly rates of Airbnb rentals. This was to be expected as the minimum nightly rate in our dataset was \\\\$0 , and the max was \\\\$10,000. Excluding such outliers the most common low nightly rates were around \\\\$ 40 a night and the most common high nightly rates were around \\$400 a night. Despite the outliers this would still be a high standard deviation and therefore there still a relatively large spread in nightly rates.\n",
    "\n",
    "As for the host characteristics the mean was 95% and the standard deviation was significantly low at 0.14. If a host reponds to all guest messages at some point their response rate is 100%, and if they never respond to guests their response rate is 0%. The mean and standard deviataion indicate that almost all hosts responded to guests messages at some point, and having a host not respond to a few guests was extremely rare. \n",
    "\n",
    "As for the review scores, the mean was 93.66 and the standard deviation was 7.47. The mean scores are very high as guests tended to enjoy the rentals they stayed at. The standard deviation is very high as well, indicating that there was large fluctuation in property ratings. Despite this variation, it was very rare for ratings to fall below 80%. \n",
    "\n",
    "At this stage, while this information is useful, we are interested in finding more data which can further provide better analysis and answer our research question of whether the property or the host is more impactful on property reviews.\n"
   ]
  },
  {
   "cell_type": "markdown",
   "id": "6ac6bc20",
   "metadata": {
    "id": "6ac6bc20"
   },
   "source": [
    "### Visual displays\n",
    "\n",
    "### Property Characteristics\n",
    "\n",
    "The next step in our exploratory data was to create a histogram to further analyze the data visually. For the first histogram we decided to compare the review scores vs. price. This will determine whether a relationship exists between review scores and price.\n",
    "\n",
    "Before doing so, we need to inspect whether there is any outlier in price by drawing a boxplot. We need to think about how to deal with outliers with extremely high price that might create a bias for our model. \n"
   ]
  },
  {
   "cell_type": "code",
   "execution_count": 23,
   "id": "193cb34f",
   "metadata": {
    "id": "193cb34f",
    "outputId": "8ffb6889-c3ae-48b6-993a-0f845a23e6cb"
   },
   "outputs": [
    {
     "data": {
      "image/png": "[encoded data removed]",
      "text/plain": [
       "<Figure size 144x720 with 1 Axes>"
      ]
     },
     "metadata": {
      "needs_background": "light"
     },
     "output_type": "display_data"
    }
   ],
   "source": [
    "plt.figure(figsize=(2,10))\n",
    "sns.boxplot(y ='price', data=airbnb_df)\n",
    "plt.title('Boxplot of Price')\n",
    "plt.show()"
   ]
  },
  {
   "cell_type": "markdown",
   "id": "3885dc69",
   "metadata": {
    "id": "3885dc69"
   },
   "source": [
    "From the boxplot, we can see that the 25 percentile, 50 percentile, and 75 percentile are all far below 2000. There are some outliers at approximately \\\\$10000, \\\\$8000, and \\\\$2000-\\\\$5000 range. These extremely large numbers do not look representative of our population, and it is possible that the property owners list these price intentionally to prevent booking. Thus, it is worth considering excluding these numbers. If we exclude these numbers, the mean and standard deviation of price will both decrease. "
   ]
  },
  {
   "cell_type": "code",
   "execution_count": 24,
   "id": "07c39a08",
   "metadata": {
    "id": "07c39a08",
    "outputId": "3c24da94-3596-4471-9c8c-93327fe38633"
   },
   "outputs": [
    {
     "data": {
      "image/png": "[encoded data removed]",
      "text/plain": [
       "<Figure size 432x288 with 1 Axes>"
      ]
     },
     "metadata": {
      "needs_background": "light"
     },
     "output_type": "display_data"
    }
   ],
   "source": [
    "airbnb_df['property_type'].groupby(by=airbnb_df['property_type']).describe()\n",
    "sns.boxplot(x='property_type', y='price', data=airbnb_df)\n",
    "plt.title('Property Type vs. Price')\n",
    "plt.xticks(rotation = 80)\n",
    "plt.show()"
   ]
  },
  {
   "cell_type": "markdown",
   "id": "0a90d00f",
   "metadata": {
    "id": "0a90d00f"
   },
   "source": [
    "From this boxplot, we can see that there is there is a strong relationship between rental rate and the type of house. The relationship between the two variables indicates that certain property types have higher prices associated with them. Houses for example are priced much higher than smaller units such as dorms and hostels. What we found interesting in this visual graph is that apartments are priced similarly to houses, of which both are priced high."
   ]
  },
  {
   "cell_type": "code",
   "execution_count": 25,
   "id": "8b702438",
   "metadata": {
    "id": "8b702438",
    "outputId": "e72af5d6-094e-400c-8575-bb9b5138852b"
   },
   "outputs": [
    {
     "data": {
      "image/png": "[encoded data removed]",
      "text/plain": [
       "<Figure size 432x288 with 1 Axes>"
      ]
     },
     "metadata": {
      "needs_background": "light"
     },
     "output_type": "display_data"
    }
   ],
   "source": [
    "sns.boxplot(x='property_type', y='review_scores_rating', data=airbnb_df)\n",
    "plt.title('Categorical plot of Property Type vs. Review Score')\n",
    "plt.xticks(rotation = 80)\n",
    "plt.show()\n"
   ]
  },
  {
   "cell_type": "markdown",
   "id": "d05b0fc9",
   "metadata": {
    "id": "d05b0fc9"
   },
   "source": [
    "From this boxplot, we can see that there is a relationship between property type and review score. For some property types, such as hostel, dorm, and cabin, the owners tend to receive a lower review rating, whereas apartment, loft, townhouse and etc. tend to have higher review rating. This indicates that there is a strong relationship between not only the type of property and price, but also the type of property and review score.\n"
   ]
  },
  {
   "cell_type": "markdown",
   "id": "90593aa6",
   "metadata": {
    "id": "90593aa6"
   },
   "source": [
    "### Model- Doug (add one model here)\n",
    "\n",
    "Finally we decided to create a linear regression model in order to calculate and compare the strength in the relationship between the property characteristics and reviews, as well as the host characteristics and reviews. The variable we used for the property characteristics was the price, and the variable we used for the host characteristics was the response rate. \n",
    "\n",
    "The linear regression models demonstrated a broad relationship between property characteristics and reviews, and host characteristics and reviews. \n",
    "\n",
    "While calculating the summary statistics, visual displays and regression models brought us closer to answering our research question on whether property characteristics or host characteristics are more impactful on review scores, more in depth analysis would be beneficial in solidifying a conclusion. \n"
   ]
  },
  {
   "cell_type": "markdown",
   "id": "wpXo02IAgQ_r",
   "metadata": {
    "id": "wpXo02IAgQ_r"
   },
   "source": [
    "## Pre-Registration Statement\n",
    "\n",
    "### Analysis 1: Investigate whether property characteristics, specifically location, longitude, latitude, and price, have an effect on the review score of an airbnb listing. \n",
    "\n",
    "In this analysis, we want to determine property characteristics’ impact on the review score of an airbnb listing. We will use four property characteristics from our dataset that we believe can have a potential relationship with the review score: location, latitude, longitude, and price. We will first run a single-input regression analysis for each of variable. If we find collinearity among these variables, we will then run a multivariate analysis to see if there is any relationship between these variables and the review score of airbnb properties. \n",
    "\n",
    "### Analysis 2: Investigate the relationship between an airbnb’s host characteristics (e.g. response time) and review score.\n",
    "\n",
    "Airbnb’s host characteristics potentially affect the review score. In our dataset, there are three variables defining host characteristics: host_response_time, host_response_rate, and cancellation_policy.\n",
    "\n",
    "First, we will investigate the relationship between host_response_time and review score to test if a faster host response would result in a higher review score.We will conduct a seaborn regplot to visualize a scatterplot and regression line for host_response_time against review score.\n",
    "\n",
    "Next, we will investigat ethe relationship betweena host_response_rate and review score to test if the frequency of the hosts’ responses would affect the Airbnb’s review score. We predefined the four levels of host_reponses_rate as following: “a few days or more”=1, “within a day”=2, “within a few hours”=3, “within an hour”=4. We will conduct another seaborn regplot  to visualize a regression analysis between host_response_rate and review score.\n",
    "\n",
    "Thirdly, we will investigate the relationship between cancellation_policy and review score to test if the strictness in cancellation policies would affect the Airbnb’s review score. We defined the levels of cancellation policies by five numerical groups: “super_strict_60”=1，”super_strict”=2, “strict”=3, “moderate”=4, “flexiable”=5. We will perform a linear regression analysis between cancellation_policy and review score.\n",
    "\n",
    "Lastly, we will interpret the r square values for the three combinations to analyze which independent variable captures more variation in review scores.\n"
   ]
  },
  {
   "cell_type": "markdown",
   "id": "h14-v9CFeJE0",
   "metadata": {
    "id": "h14-v9CFeJE0"
   },
   "source": [
    "## Evaluation Of Significance (Aliya and Linda)"
   ]
  },
  {
   "cell_type": "markdown",
   "id": "IQ4yC9IOfmrA",
   "metadata": {
    "id": "IQ4yC9IOfmrA"
   },
   "source": [
    " Analysis 1: Our first analysis examines the relationship between property characteristics and review score of airbnb properties. We previously defined property characteristics as property type, longitude and latitude (location) and price of the airbnb. "
   ]
  },
  {
   "cell_type": "code",
   "execution_count": 26,
   "id": "1nD9CNYZgrMx",
   "metadata": {
    "id": "1nD9CNYZgrMx"
   },
   "outputs": [],
   "source": [
    "\n",
    "from sklearn.metrics import mean_squared_error,mean_absolute_error, mean_absolute_percentage_error \n",
    "def run_regression(x,train,test,y):\n",
    "    reg = LinearRegression().fit(train[x],train[y])\n",
    "    train_predict=reg.predict(train[x])\n",
    "    test_predict=reg.predict(test[x])\n",
    "    mse1 = mean_squared_error(train_predict,train[y])\n",
    "    mse2 = mean_squared_error(test_predict,test[y])\n",
    "    mae1 = mean_absolute_error(train_predict,train[y])\n",
    "    mae2 = mean_absolute_error(test_predict,test[y])\n",
    "    ## add what each variable means in the print\n",
    "    print(x)        \n",
    "    print(reg.coef_)\n",
    "    print(reg.intercept_)\n",
    "    print(np.sqrt(mse1))\n",
    "    print(np.sqrt(mse2))\n",
    "    print(mae1)\n",
    "    print(mae2)"
   ]
  },
  {
   "cell_type": "code",
   "execution_count": 27,
   "id": "3Y0yYiKehS1i",
   "metadata": {
    "colab": {
     "base_uri": "https://localhost:8080/"
    },
    "id": "3Y0yYiKehS1i",
    "outputId": "662df7ab-feac-4f7e-c6aa-517679be7e52"
   },
   "outputs": [
    {
     "name": "stdout",
     "output_type": "stream",
     "text": [
      "   Unnamed: 0 location  longitude   latitude property_type  price  \\\n",
      "0           0    Bronx -73.786509  40.849191         House     50   \n",
      "1           1    Bronx -73.786609  40.849775     Apartment    125   \n",
      "2           2    Bronx -73.789328  40.850024         House     69   \n",
      "3           3    Bronx -73.789304  40.851980     Apartment    150   \n",
      "4           4    Bronx -73.788680  40.852054         House    101   \n",
      "\n",
      "   host_response_time  host_response_rate  cancellation_policy  \\\n",
      "0                   4                 1.0                    4   \n",
      "1                   4                 1.0                    3   \n",
      "2                   4                 1.0                    4   \n",
      "3                   4                 1.0                    5   \n",
      "4                   4                 1.0                    4   \n",
      "\n",
      "   review_scores_rating  \n",
      "0                 100.0  \n",
      "1                  95.0  \n",
      "2                  97.0  \n",
      "3                 100.0  \n",
      "4                 100.0  \n"
     ]
    }
   ],
   "source": [
    "clean_df = pd.read_csv('cleaned_airbnb_data.csv')\n",
    "print(clean_df.head())\n"
   ]
  },
  {
   "cell_type": "markdown",
   "id": "NbTD25SL8jbq",
   "metadata": {
    "id": "NbTD25SL8jbq"
   },
   "source": [
    "###Explanation of Cells below: \n",
    "\n",
    "We are first going assign property types to a categorical variable so we can analyze how each property type impacts the review score of the airbnb."
   ]
  },
  {
   "cell_type": "code",
   "execution_count": 28,
   "id": "tifV5uKZm-ls",
   "metadata": {
    "id": "tifV5uKZm-ls"
   },
   "outputs": [],
   "source": [
    "property_map = {\"House\": 1, \"Apartment\": 2, \"Loft\": 3, \"Condominium\": 4, \"Townhouse\": 5,\"Guesthouse\": 6,\"Other\": 7,\"Bed & Breakfast\": 8}\n",
    "clean_df['property_type'] = clean_df['property_type'].map(property_map)"
   ]
  },
  {
   "cell_type": "markdown",
   "id": "Fk-tzMwe80U5",
   "metadata": {
    "id": "Fk-tzMwe80U5"
   },
   "source": [
    "Then we are splitting the data into both test and train data so we can run regressions on the individual property characteristic variables on the review score to see how a change in the property characteristic impacts the review score."
   ]
  },
  {
   "cell_type": "code",
   "execution_count": 29,
   "id": "zPpVEtvFm_fv",
   "metadata": {
    "id": "zPpVEtvFm_fv"
   },
   "outputs": [],
   "source": [
    "airbnb_train, airbnb_test = train_test_split(clean_df, test_size=0.1,random_state=2950)"
   ]
  },
  {
   "cell_type": "code",
   "execution_count": 30,
   "id": "_I20ay1kg3Mt",
   "metadata": {
    "colab": {
     "base_uri": "https://localhost:8080/"
    },
    "id": "_I20ay1kg3Mt",
    "outputId": "f5e54d36-c8f8-4e5b-beef-e7ad09603ad9"
   },
   "outputs": [
    {
     "name": "stdout",
     "output_type": "stream",
     "text": [
      "['latitude']\n",
      "[-7.78350153]\n",
      "410.6795431608924\n",
      "7.484714940655063\n",
      "7.4689164505181305\n",
      "5.018643123628346\n",
      "5.092657119037807\n",
      "['longitude']\n",
      "[-3.59004468]\n",
      "-171.83559795619934\n",
      "7.4946861451290925\n",
      "7.463325358453201\n",
      "5.033889659747855\n",
      "5.0957485872407045\n",
      "['price']\n",
      "[-0.00201906]\n",
      "93.94612740666871\n",
      "7.482622703815382\n",
      "7.486564005707093\n",
      "5.035589543273011\n",
      "5.114987979144138\n"
     ]
    }
   ],
   "source": [
    "for x in np.array(['latitude','longitude','price']):\n",
    "    run_regression([x],airbnb_test,airbnb_train,'review_scores_rating')"
   ]
  },
  {
   "cell_type": "markdown",
   "id": "k4FvjD7c9D8q",
   "metadata": {
    "id": "k4FvjD7c9D8q"
   },
   "source": [
    "So far we see that the latitude has a positive relationship with the review score of the airbnb. This means that if we increase in latitude (go further north) the review scores of the airbnb are higher. \n",
    "\n",
    "However, for longitude, there is a negative relationship between longitude and price. When we increase in longitude, there is decrease in 157.99 units of the review score. \n",
    "\n",
    "Lastly, for price, increasing the price of an airbnb tends to have a positive impact on the review score of the airbnb. "
   ]
  },
  {
   "cell_type": "code",
   "execution_count": 31,
   "id": "rfOd52zorrw_",
   "metadata": {
    "colab": {
     "base_uri": "https://localhost:8080/"
    },
    "id": "rfOd52zorrw_",
    "outputId": "dc800ef3-7cac-4c50-df51-52ebb802c2a8"
   },
   "outputs": [
    {
     "name": "stdout",
     "output_type": "stream",
     "text": [
      "['latitude', 'longitude', 'price']\n",
      "[-3.13990692e+00 -4.18629892e+00  1.40783646e-03]\n",
      "-88.24776244348533\n",
      "7.4575957961322255\n",
      "7.5141759281460825\n",
      "5.085544564761675\n",
      "5.02793080299383\n"
     ]
    }
   ],
   "source": [
    "run_regression(['latitude','longitude','price'],airbnb_train,airbnb_test,'review_scores_rating')"
   ]
  },
  {
   "cell_type": "markdown",
   "id": "n-w1rLeW_7Ag",
   "metadata": {
    "id": "n-w1rLeW_7Ag"
   },
   "source": [
    "Having a multivariate regression with all of the property characteristics, we are able to see that latitude and longitude have a very small joined impact on the review score of the airbnb. However, the price has a small negative impact on the review score of an airbnb."
   ]
  },
  {
   "cell_type": "markdown",
   "id": "ca0c3dac",
   "metadata": {
    "id": "ca0c3dac"
   },
   "source": [
    "### Analysis 2: the relationship between host characteristics and review score"
   ]
  },
  {
   "cell_type": "markdown",
   "id": "abd08ed5",
   "metadata": {
    "id": "abd08ed5"
   },
   "source": [
    "Our second analysis examines the relationship between host characteristics and review score of airbnb properties. We previously defined host characteristics as host response time, host response rate and cancellation policy. "
   ]
  },
  {
   "cell_type": "markdown",
   "id": "b8a72d45",
   "metadata": {
    "id": "b8a72d45"
   },
   "source": [
    "**Explanation for cell below:** First, we are interested in the impact of individual host characteristic on the review score. We run a linear regression and generate a regression plot for host response time variable. The regression line in the plot is almost horizontaly, which shows there is an extremely low correlation between host response time and review scores."
   ]
  },
  {
   "cell_type": "code",
   "execution_count": 32,
   "id": "8d546a86",
   "metadata": {
    "id": "8d546a86"
   },
   "outputs": [
    {
     "data": {
      "image/png": "[encoded data removed]",
      "text/plain": [
       "<Figure size 432x288 with 1 Axes>"
      ]
     },
     "metadata": {
      "needs_background": "light"
     },
     "output_type": "display_data"
    }
   ],
   "source": [
    "response_time_model = LinearRegression().fit(airbnb_df[['host_response_time']], airbnb_df['review_scores_rating'])\n",
    "sns.regplot(x=airbnb_df[\"host_response_time\"], y=airbnb_df[\"review_scores_rating\"])\n",
    "plt.scatter(airbnb_df['host_response_time'], response_time_model.predict(airbnb_df[[\"host_response_time\"]]), c='red')\n",
    "plt.title('Regression Plot of Host Response Time vs. Review Score')\n",
    "plt.show()"
   ]
  },
  {
   "cell_type": "markdown",
   "id": "fdf18995",
   "metadata": {
    "id": "fdf18995"
   },
   "source": [
    "**Explanation for cell below:** The model shows a slightly positive relationship between host response time and the review score of an airbnb listing. Specifically, we expect that each one unit increase in host response time corresponds to a 0.071 increase in the review score. This model indicates that when the host response time is 1, which represents \"a few days or more,\" we expect the review score of the property to be 93.491 (coefficient+intercept). We see many outliers that give low review score ratings. The sign of the slope matches our expectation, because we expect faster response rate would lead to higher review score. The $r^2$ of the linear regression model for response time against review score is 0.000, which can be interpreted as 0% of the variation in the output variable can be explained  by the input variable host response time. "
   ]
  },
  {
   "cell_type": "code",
   "execution_count": 33,
   "id": "08d6dbf7",
   "metadata": {
    "id": "08d6dbf7"
   },
   "outputs": [
    {
     "name": "stdout",
     "output_type": "stream",
     "text": [
      "host response time coefficient: 0.072\n",
      "host response time intercept: 93.418\n",
      "r^2 score of the response time model: 0.000\n"
     ]
    }
   ],
   "source": [
    "response_time_score = response_time_model.score(airbnb_df[['host_response_time']], airbnb_df['review_scores_rating'])\n",
    "print('host response time coefficient: {:.3f}'.format(float(response_time_model.coef_)))\n",
    "print('host response time intercept: {:.3f}'.format(response_time_model.intercept_))\n",
    "print('r^2 score of the response time model: {:.3f}'.format(response_time_score))"
   ]
  },
  {
   "cell_type": "markdown",
   "id": "be54ec83",
   "metadata": {
    "id": "be54ec83"
   },
   "source": [
    "**Explanation for cell below:** We then run a linear regression and generate a regression plot for host response rate variable. The regression line in the plot is upward sloping, which indicates there is positive relationship between host response rate and review scores."
   ]
  },
  {
   "cell_type": "code",
   "execution_count": 34,
   "id": "02dc00ea",
   "metadata": {
    "id": "02dc00ea"
   },
   "outputs": [
    {
     "data": {
      "image/png": "[encoded data removed]",
      "text/plain": [
       "<Figure size 432x288 with 1 Axes>"
      ]
     },
     "metadata": {
      "needs_background": "light"
     },
     "output_type": "display_data"
    }
   ],
   "source": [
    "response_rate_model = LinearRegression().fit(airbnb_df[['host_response_rate']], airbnb_df['review_scores_rating'])\n",
    "sns.regplot(x=airbnb_df[\"host_response_rate\"], y=airbnb_df[\"review_scores_rating\"])\n",
    "plt.scatter(airbnb_df['host_response_rate'], response_rate_model.predict(airbnb_df[[\"host_response_rate\"]]), c='red')\n",
    "plt.title('Regression Plot of Host Response Rate vs. Review Score')\n",
    "plt.show()"
   ]
  },
  {
   "cell_type": "markdown",
   "id": "2ee2a04a",
   "metadata": {
    "id": "2ee2a04a"
   },
   "source": [
    "**Explanation for cell below:** The model shows a positive relationship between host response rate and the review score of an airbnb listing. Specifically, we expect that each one unit increase in host response rate corresponds to a 4.071 increase in the review score. This model indicates that when the host response rate is 0, we expect the review score of the property to be 89.803. The sign of the slope matches our expectation, because we expect higher response rate would lead to higher review score. The $r^2$ of the linear regression model for response rate against review score is 0.006, which can be interpreted as 0.6% of the variation in the output variable can be explained by the input variable host response rate."
   ]
  },
  {
   "cell_type": "code",
   "execution_count": 35,
   "id": "d5f115fc",
   "metadata": {
    "id": "d5f115fc"
   },
   "outputs": [
    {
     "name": "stdout",
     "output_type": "stream",
     "text": [
      "host response rate coefficient: 4.087\n",
      "host response rate intercept: 89.787\n",
      "r^2 score of the response rate model: 0.006\n"
     ]
    }
   ],
   "source": [
    "response_rate_score = response_rate_model.score(airbnb_df[['host_response_rate']], airbnb_df['review_scores_rating'])\n",
    "print('host response rate coefficient: {:.3f}'.format(float(response_rate_model.coef_)))\n",
    "print('host response rate intercept: {:.3f}'.format(response_rate_model.intercept_))\n",
    "print('r^2 score of the response rate model: {:.3f}'.format(response_rate_score))"
   ]
  },
  {
   "cell_type": "markdown",
   "id": "b01055b5",
   "metadata": {
    "id": "b01055b5"
   },
   "source": [
    "**Explanation for cell below:** Next, we run a linear regression and generate a regression plot for cancellation policy variable. The regression line in the plot is upward sloping, which indicates there is positive relationship between host response rate and review scores."
   ]
  },
  {
   "cell_type": "code",
   "execution_count": 36,
   "id": "09be33d1",
   "metadata": {
    "id": "09be33d1"
   },
   "outputs": [
    {
     "data": {
      "image/png": "[encoded data removed]",
      "text/plain": [
       "<Figure size 432x288 with 1 Axes>"
      ]
     },
     "metadata": {
      "needs_background": "light"
     },
     "output_type": "display_data"
    }
   ],
   "source": [
    "policy_model = LinearRegression().fit(airbnb_df[['cancellation_policy']], airbnb_df['review_scores_rating'])\n",
    "sns.regplot(x=airbnb_df[\"cancellation_policy\"], y=airbnb_df[\"review_scores_rating\"])\n",
    "plt.scatter(airbnb_df['cancellation_policy'], policy_model.predict(airbnb_df[[\"cancellation_policy\"]]), c='red')\n",
    "plt.title('Regression Plot of Cancellation Policy vs. Review Score')\n",
    "plt.show()"
   ]
  },
  {
   "cell_type": "markdown",
   "id": "a7a2d7b9",
   "metadata": {
    "id": "a7a2d7b9"
   },
   "source": [
    "**Explanation for cell below:** The model shows a positive relationship between cancellation policy and the review score of an airbnb listing. Specifically, we expect that each one unit increase in cancellation policy corresponds to a 0.373 increase in the review score. This model indicates that when the cancellation policy is 1, which represents \"super strict 60\", we expect the review score of the property to be 92.675 (intercept+coefficient). The sign of the slope matches our expectation, because we expect more flexible cancellation policy would lead to higher review score. The $r^2$ of the linear regression model for response time against review score is 0.001, which can be interpreted as 0.1% of the variation in the output variable can be explained by the variation in the cancellation policy."
   ]
  },
  {
   "cell_type": "code",
   "execution_count": 37,
   "id": "63dc8699",
   "metadata": {
    "id": "63dc8699"
   },
   "outputs": [
    {
     "name": "stdout",
     "output_type": "stream",
     "text": [
      "cancellation policy coefficient: 0.372\n",
      "cancellation policy intercept: 92.305\n",
      "r^2 score of the cancellation policy model: 0.001\n"
     ]
    }
   ],
   "source": [
    "policy_score = policy_model.score(airbnb_df[['cancellation_policy']], airbnb_df['review_scores_rating'])\n",
    "print('cancellation policy coefficient: {:.3f}'.format(float(policy_model.coef_)))\n",
    "print('cancellation policy intercept: {:.3f}'.format(policy_model.intercept_))\n",
    "print('r^2 score of the cancellation policy model: {:.3f}'.format(policy_score))"
   ]
  },
  {
   "cell_type": "markdown",
   "id": "6e997ab9",
   "metadata": {
    "id": "6e997ab9"
   },
   "source": [
    "## Data limitations - Aliya"
   ]
  },
  {
   "cell_type": "markdown",
   "id": "83079a18",
   "metadata": {
    "id": "83079a18"
   },
   "source": [
    "One of the major limitations of this study is that there are a lot of fake ratings. For example, hosts will sometimes rate their own property or ask others to do it to increase the percentage of their review score. This will lead to bias in the model since some of the Airbnb's results are not an accurate representation of what people think about the listing. This leads to some bias in our data of the success of some properties being exaggerated. \n",
    "\n",
    "Secondly, a large number of properties had very few reviews or none at all. We removed the properties without a review score from our data when we cleaned it but this means we did not account for several of the listings available in NYC and we still have the properties with few ratings. Also, it is proven that people are more likely to leave a review if it's a negative experience.This means that the results are likely skewed where properties with lower ratings are more likely to have been in our sample since we removed the properties with no ratings.\n",
    "\n",
    "Additionally, to draw our conclusions, we have to make assumptions about what characteristics make a good host and narrow down which ones really differentiate a property. We chose response rate, cancellation policy, and response time to be the ones that determine a good host but there may be missing characteristics that impact the success of a host. Similarly, we narrowed it down to location, property type, and price for the property attributes; however, many other things could be impacting the Airbnb listing which are not accounted for."
   ]
  },
  {
   "cell_type": "markdown",
   "id": "o7LSpPIZedcf",
   "metadata": {
    "id": "o7LSpPIZedcf"
   },
   "source": [
    "## Source Code- Aliya"
   ]
  },
  {
   "cell_type": "markdown",
   "id": "GEKuFDamegKr",
   "metadata": {
    "id": "GEKuFDamegKr"
   },
   "source": [
    "## Acknowledgements- Doug\n",
    "\n",
    "In order to gain a better understanding of our research, we found it helpful to analyze the broader picture first. We found exploring non-data related resources involving our hypothesis exceptionally helpful. For example, we first familiarized ourself with the website design of Airbnb. We carefully analyzed numerous property listings on Airbnb’s website before delving into the data set. This was done to grasp an understanding for the positioning of both property characteristics and host characteristics and understand the big picture of our research. \n",
    "\n",
    "During the data analysis process, when we encountered roadblocks we found asking questions through our class’s Ed Discussion to be the most helpful. Secondly we found asking questions on Stack Overflow, given its popularity and simplicity, to be useful as well. If we had difficulty regarding concepts, we turned to YouTube videos posted from reputable channels to be helpful. This is because it provided a visual representation of the question at hand, which was highly beneficial. \n"
   ]
  },
  {
   "cell_type": "markdown",
   "id": "2j_1a28EenGs",
   "metadata": {
    "id": "2j_1a28EenGs"
   },
   "source": [
    "## Appendix - Linda"
   ]
  },
  {
   "cell_type": "markdown",
   "id": "7a512243",
   "metadata": {
    "id": "7a512243"
   },
   "source": [
    "## Questions for reviewers"
   ]
  },
  {
   "cell_type": "markdown",
   "id": "5f9074ce",
   "metadata": {
    "id": "5f9074ce"
   },
   "source": []
  }
 ],
 "metadata": {
  "colab": {
   "provenance": []
  },
  "kernelspec": {
   "display_name": "Python 3 (ipykernel)",
   "language": "python",
   "name": "python3"
  },
  "language_info": {
   "codemirror_mode": {
    "name": "ipython",
    "version": 3
   },
   "file_extension": ".py",
   "mimetype": "text/x-python",
   "name": "python",
   "nbconvert_exporter": "python",
   "pygments_lexer": "ipython3",
   "version": "3.8.13"
  }
 },
 "nbformat": 4,
 "nbformat_minor": 5
}
